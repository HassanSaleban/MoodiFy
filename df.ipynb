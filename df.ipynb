{
 "cells": [
  {
   "cell_type": "markdown",
   "id": "622ad2ec",
   "metadata": {},
   "source": [
    "# **Import de librairies**"
   ]
  },
  {
   "cell_type": "code",
   "execution_count": 1,
   "id": "10b91e03",
   "metadata": {},
   "outputs": [],
   "source": [
    "import pandas as pd\n",
    "import seaborn as sns\n",
    "import matplotlib.pyplot as plt\n",
    "import requests\n",
    "from tqdm import tqdm"
   ]
  },
  {
   "cell_type": "markdown",
   "id": "d1fbac21",
   "metadata": {},
   "source": [
    "# **Chargement du dataset**"
   ]
  },
  {
   "cell_type": "code",
   "execution_count": 2,
   "id": "071897dd",
   "metadata": {},
   "outputs": [],
   "source": [
    "df = pd.read_csv(\"SpotifyFeatures.csv\")"
   ]
  },
  {
   "cell_type": "markdown",
   "id": "c0f3ee64",
   "metadata": {},
   "source": [
    "# **EDA (Exploratory Data Analysis) + Nettoyage**"
   ]
  },
  {
   "cell_type": "markdown",
   "id": "07e3bfec",
   "metadata": {},
   "source": [
    "### **Exploration préliminaire**"
   ]
  },
  {
   "cell_type": "code",
   "execution_count": 3,
   "id": "66e9192b",
   "metadata": {},
   "outputs": [
    {
     "data": {
      "text/html": [
       "<div>\n",
       "<style scoped>\n",
       "    .dataframe tbody tr th:only-of-type {\n",
       "        vertical-align: middle;\n",
       "    }\n",
       "\n",
       "    .dataframe tbody tr th {\n",
       "        vertical-align: top;\n",
       "    }\n",
       "\n",
       "    .dataframe thead th {\n",
       "        text-align: right;\n",
       "    }\n",
       "</style>\n",
       "<table border=\"1\" class=\"dataframe\">\n",
       "  <thead>\n",
       "    <tr style=\"text-align: right;\">\n",
       "      <th></th>\n",
       "      <th>genre</th>\n",
       "      <th>artist_name</th>\n",
       "      <th>track_name</th>\n",
       "      <th>track_id</th>\n",
       "      <th>popularity</th>\n",
       "      <th>acousticness</th>\n",
       "      <th>danceability</th>\n",
       "      <th>duration_ms</th>\n",
       "      <th>energy</th>\n",
       "      <th>instrumentalness</th>\n",
       "      <th>key</th>\n",
       "      <th>liveness</th>\n",
       "      <th>loudness</th>\n",
       "      <th>mode</th>\n",
       "      <th>speechiness</th>\n",
       "      <th>tempo</th>\n",
       "      <th>time_signature</th>\n",
       "      <th>valence</th>\n",
       "    </tr>\n",
       "  </thead>\n",
       "  <tbody>\n",
       "    <tr>\n",
       "      <th>0</th>\n",
       "      <td>Movie</td>\n",
       "      <td>Henri Salvador</td>\n",
       "      <td>C'est beau de faire un Show</td>\n",
       "      <td>0BRjO6ga9RKCKjfDqeFgWV</td>\n",
       "      <td>0</td>\n",
       "      <td>0.611</td>\n",
       "      <td>0.389</td>\n",
       "      <td>99373</td>\n",
       "      <td>0.910</td>\n",
       "      <td>0.000</td>\n",
       "      <td>C#</td>\n",
       "      <td>0.3460</td>\n",
       "      <td>-1.828</td>\n",
       "      <td>Major</td>\n",
       "      <td>0.0525</td>\n",
       "      <td>166.969</td>\n",
       "      <td>4/4</td>\n",
       "      <td>0.814</td>\n",
       "    </tr>\n",
       "    <tr>\n",
       "      <th>1</th>\n",
       "      <td>Movie</td>\n",
       "      <td>Martin &amp; les fées</td>\n",
       "      <td>Perdu d'avance (par Gad Elmaleh)</td>\n",
       "      <td>0BjC1NfoEOOusryehmNudP</td>\n",
       "      <td>1</td>\n",
       "      <td>0.246</td>\n",
       "      <td>0.590</td>\n",
       "      <td>137373</td>\n",
       "      <td>0.737</td>\n",
       "      <td>0.000</td>\n",
       "      <td>F#</td>\n",
       "      <td>0.1510</td>\n",
       "      <td>-5.559</td>\n",
       "      <td>Minor</td>\n",
       "      <td>0.0868</td>\n",
       "      <td>174.003</td>\n",
       "      <td>4/4</td>\n",
       "      <td>0.816</td>\n",
       "    </tr>\n",
       "    <tr>\n",
       "      <th>2</th>\n",
       "      <td>Movie</td>\n",
       "      <td>Joseph Williams</td>\n",
       "      <td>Don't Let Me Be Lonely Tonight</td>\n",
       "      <td>0CoSDzoNIKCRs124s9uTVy</td>\n",
       "      <td>3</td>\n",
       "      <td>0.952</td>\n",
       "      <td>0.663</td>\n",
       "      <td>170267</td>\n",
       "      <td>0.131</td>\n",
       "      <td>0.000</td>\n",
       "      <td>C</td>\n",
       "      <td>0.1030</td>\n",
       "      <td>-13.879</td>\n",
       "      <td>Minor</td>\n",
       "      <td>0.0362</td>\n",
       "      <td>99.488</td>\n",
       "      <td>5/4</td>\n",
       "      <td>0.368</td>\n",
       "    </tr>\n",
       "    <tr>\n",
       "      <th>3</th>\n",
       "      <td>Movie</td>\n",
       "      <td>Henri Salvador</td>\n",
       "      <td>Dis-moi Monsieur Gordon Cooper</td>\n",
       "      <td>0Gc6TVm52BwZD07Ki6tIvf</td>\n",
       "      <td>0</td>\n",
       "      <td>0.703</td>\n",
       "      <td>0.240</td>\n",
       "      <td>152427</td>\n",
       "      <td>0.326</td>\n",
       "      <td>0.000</td>\n",
       "      <td>C#</td>\n",
       "      <td>0.0985</td>\n",
       "      <td>-12.178</td>\n",
       "      <td>Major</td>\n",
       "      <td>0.0395</td>\n",
       "      <td>171.758</td>\n",
       "      <td>4/4</td>\n",
       "      <td>0.227</td>\n",
       "    </tr>\n",
       "    <tr>\n",
       "      <th>4</th>\n",
       "      <td>Movie</td>\n",
       "      <td>Fabien Nataf</td>\n",
       "      <td>Ouverture</td>\n",
       "      <td>0IuslXpMROHdEPvSl1fTQK</td>\n",
       "      <td>4</td>\n",
       "      <td>0.950</td>\n",
       "      <td>0.331</td>\n",
       "      <td>82625</td>\n",
       "      <td>0.225</td>\n",
       "      <td>0.123</td>\n",
       "      <td>F</td>\n",
       "      <td>0.2020</td>\n",
       "      <td>-21.150</td>\n",
       "      <td>Major</td>\n",
       "      <td>0.0456</td>\n",
       "      <td>140.576</td>\n",
       "      <td>4/4</td>\n",
       "      <td>0.390</td>\n",
       "    </tr>\n",
       "  </tbody>\n",
       "</table>\n",
       "</div>"
      ],
      "text/plain": [
       "   genre        artist_name                        track_name  \\\n",
       "0  Movie     Henri Salvador       C'est beau de faire un Show   \n",
       "1  Movie  Martin & les fées  Perdu d'avance (par Gad Elmaleh)   \n",
       "2  Movie    Joseph Williams    Don't Let Me Be Lonely Tonight   \n",
       "3  Movie     Henri Salvador    Dis-moi Monsieur Gordon Cooper   \n",
       "4  Movie       Fabien Nataf                         Ouverture   \n",
       "\n",
       "                 track_id  popularity  acousticness  danceability  \\\n",
       "0  0BRjO6ga9RKCKjfDqeFgWV           0         0.611         0.389   \n",
       "1  0BjC1NfoEOOusryehmNudP           1         0.246         0.590   \n",
       "2  0CoSDzoNIKCRs124s9uTVy           3         0.952         0.663   \n",
       "3  0Gc6TVm52BwZD07Ki6tIvf           0         0.703         0.240   \n",
       "4  0IuslXpMROHdEPvSl1fTQK           4         0.950         0.331   \n",
       "\n",
       "   duration_ms  energy  instrumentalness key  liveness  loudness   mode  \\\n",
       "0        99373   0.910             0.000  C#    0.3460    -1.828  Major   \n",
       "1       137373   0.737             0.000  F#    0.1510    -5.559  Minor   \n",
       "2       170267   0.131             0.000   C    0.1030   -13.879  Minor   \n",
       "3       152427   0.326             0.000  C#    0.0985   -12.178  Major   \n",
       "4        82625   0.225             0.123   F    0.2020   -21.150  Major   \n",
       "\n",
       "   speechiness    tempo time_signature  valence  \n",
       "0       0.0525  166.969            4/4    0.814  \n",
       "1       0.0868  174.003            4/4    0.816  \n",
       "2       0.0362   99.488            5/4    0.368  \n",
       "3       0.0395  171.758            4/4    0.227  \n",
       "4       0.0456  140.576            4/4    0.390  "
      ]
     },
     "execution_count": 3,
     "metadata": {},
     "output_type": "execute_result"
    }
   ],
   "source": [
    "df.head()"
   ]
  },
  {
   "cell_type": "code",
   "execution_count": 4,
   "id": "4aa2e1b5",
   "metadata": {},
   "outputs": [
    {
     "name": "stdout",
     "output_type": "stream",
     "text": [
      "<class 'pandas.core.frame.DataFrame'>\n",
      "RangeIndex: 232725 entries, 0 to 232724\n",
      "Data columns (total 18 columns):\n",
      " #   Column            Non-Null Count   Dtype  \n",
      "---  ------            --------------   -----  \n",
      " 0   genre             232725 non-null  object \n",
      " 1   artist_name       232725 non-null  object \n",
      " 2   track_name        232724 non-null  object \n",
      " 3   track_id          232725 non-null  object \n",
      " 4   popularity        232725 non-null  int64  \n",
      " 5   acousticness      232725 non-null  float64\n",
      " 6   danceability      232725 non-null  float64\n",
      " 7   duration_ms       232725 non-null  int64  \n",
      " 8   energy            232725 non-null  float64\n",
      " 9   instrumentalness  232725 non-null  float64\n",
      " 10  key               232725 non-null  object \n",
      " 11  liveness          232725 non-null  float64\n",
      " 12  loudness          232725 non-null  float64\n",
      " 13  mode              232725 non-null  object \n",
      " 14  speechiness       232725 non-null  float64\n",
      " 15  tempo             232725 non-null  float64\n",
      " 16  time_signature    232725 non-null  object \n",
      " 17  valence           232725 non-null  float64\n",
      "dtypes: float64(9), int64(2), object(7)\n",
      "memory usage: 32.0+ MB\n"
     ]
    }
   ],
   "source": [
    "df.info()"
   ]
  },
  {
   "cell_type": "markdown",
   "id": "0245af74",
   "metadata": {},
   "source": [
    "### **Traitement des valeurs nulles**"
   ]
  },
  {
   "cell_type": "code",
   "execution_count": 5,
   "id": "375622b5",
   "metadata": {},
   "outputs": [
    {
     "data": {
      "text/plain": [
       "genre               0\n",
       "artist_name         0\n",
       "track_name          1\n",
       "track_id            0\n",
       "popularity          0\n",
       "acousticness        0\n",
       "danceability        0\n",
       "duration_ms         0\n",
       "energy              0\n",
       "instrumentalness    0\n",
       "key                 0\n",
       "liveness            0\n",
       "loudness            0\n",
       "mode                0\n",
       "speechiness         0\n",
       "tempo               0\n",
       "time_signature      0\n",
       "valence             0\n",
       "dtype: int64"
      ]
     },
     "execution_count": 5,
     "metadata": {},
     "output_type": "execute_result"
    }
   ],
   "source": [
    "df.isna().sum()"
   ]
  },
  {
   "cell_type": "markdown",
   "id": "066a77a6",
   "metadata": {},
   "source": [
    "Une seule valeur nulle dans la colonne 'track_name'."
   ]
  },
  {
   "cell_type": "code",
   "execution_count": 6,
   "id": "f6fc3fce",
   "metadata": {},
   "outputs": [
    {
     "data": {
      "text/plain": [
       "Index([208285], dtype='int64')"
      ]
     },
     "execution_count": 6,
     "metadata": {},
     "output_type": "execute_result"
    }
   ],
   "source": [
    "df[df['track_name'].isna()].index"
   ]
  },
  {
   "cell_type": "code",
   "execution_count": 7,
   "id": "654fab9c",
   "metadata": {},
   "outputs": [
    {
     "data": {
      "text/plain": [
       "genre                                World\n",
       "artist_name              Elevation Worship\n",
       "track_name                             NaN\n",
       "track_id            7BGQCe62A58Q5ZgpQFX93t\n",
       "popularity                              44\n",
       "acousticness                         0.019\n",
       "danceability                         0.287\n",
       "duration_ms                         350027\n",
       "energy                               0.446\n",
       "instrumentalness                       0.0\n",
       "key                                      F\n",
       "liveness                               0.1\n",
       "loudness                            -7.214\n",
       "mode                                 Major\n",
       "speechiness                         0.0317\n",
       "tempo                              138.727\n",
       "time_signature                         4/4\n",
       "valence                             0.0387\n",
       "Name: 208285, dtype: object"
      ]
     },
     "execution_count": 7,
     "metadata": {},
     "output_type": "execute_result"
    }
   ],
   "source": [
    "df.iloc[208285]"
   ]
  },
  {
   "cell_type": "markdown",
   "id": "1e09ae46",
   "metadata": {},
   "source": [
    "track_id = l'URI nous mène vers la track sur spotify\n",
    "https://open.spotify.com/intl-fr/track/ 7BGQCe62A58Q5ZgpQFX93t "
   ]
  },
  {
   "cell_type": "markdown",
   "id": "43fa2d2f",
   "metadata": {},
   "source": [
    "Le titre du morceau s'appelle \"None\"."
   ]
  },
  {
   "cell_type": "code",
   "execution_count": 8,
   "id": "e083b6c8",
   "metadata": {},
   "outputs": [],
   "source": [
    "df = df.fillna('None')"
   ]
  },
  {
   "cell_type": "markdown",
   "id": "41e924e9",
   "metadata": {},
   "source": [
    "### **Analyse et nettoyage des colonnes**"
   ]
  },
  {
   "cell_type": "code",
   "execution_count": 9,
   "id": "d71e45e1",
   "metadata": {},
   "outputs": [
    {
     "data": {
      "text/plain": [
       "Index(['genre', 'artist_name', 'track_name', 'track_id', 'popularity',\n",
       "       'acousticness', 'danceability', 'duration_ms', 'energy',\n",
       "       'instrumentalness', 'key', 'liveness', 'loudness', 'mode',\n",
       "       'speechiness', 'tempo', 'time_signature', 'valence'],\n",
       "      dtype='object')"
      ]
     },
     "execution_count": 9,
     "metadata": {},
     "output_type": "execute_result"
    }
   ],
   "source": [
    "df.columns"
   ]
  },
  {
   "cell_type": "markdown",
   "id": "fca20d9c",
   "metadata": {},
   "source": [
    "#### **Colonnes catégorielles**"
   ]
  },
  {
   "cell_type": "code",
   "execution_count": 10,
   "id": "56959cc7",
   "metadata": {},
   "outputs": [
    {
     "data": {
      "text/html": [
       "<div>\n",
       "<style scoped>\n",
       "    .dataframe tbody tr th:only-of-type {\n",
       "        vertical-align: middle;\n",
       "    }\n",
       "\n",
       "    .dataframe tbody tr th {\n",
       "        vertical-align: top;\n",
       "    }\n",
       "\n",
       "    .dataframe thead th {\n",
       "        text-align: right;\n",
       "    }\n",
       "</style>\n",
       "<table border=\"1\" class=\"dataframe\">\n",
       "  <thead>\n",
       "    <tr style=\"text-align: right;\">\n",
       "      <th></th>\n",
       "      <th>genre</th>\n",
       "      <th>artist_name</th>\n",
       "      <th>track_name</th>\n",
       "      <th>track_id</th>\n",
       "      <th>key</th>\n",
       "      <th>mode</th>\n",
       "      <th>time_signature</th>\n",
       "    </tr>\n",
       "  </thead>\n",
       "  <tbody>\n",
       "    <tr>\n",
       "      <th>0</th>\n",
       "      <td>Movie</td>\n",
       "      <td>Henri Salvador</td>\n",
       "      <td>C'est beau de faire un Show</td>\n",
       "      <td>0BRjO6ga9RKCKjfDqeFgWV</td>\n",
       "      <td>C#</td>\n",
       "      <td>Major</td>\n",
       "      <td>4/4</td>\n",
       "    </tr>\n",
       "    <tr>\n",
       "      <th>1</th>\n",
       "      <td>Movie</td>\n",
       "      <td>Martin &amp; les fées</td>\n",
       "      <td>Perdu d'avance (par Gad Elmaleh)</td>\n",
       "      <td>0BjC1NfoEOOusryehmNudP</td>\n",
       "      <td>F#</td>\n",
       "      <td>Minor</td>\n",
       "      <td>4/4</td>\n",
       "    </tr>\n",
       "    <tr>\n",
       "      <th>2</th>\n",
       "      <td>Movie</td>\n",
       "      <td>Joseph Williams</td>\n",
       "      <td>Don't Let Me Be Lonely Tonight</td>\n",
       "      <td>0CoSDzoNIKCRs124s9uTVy</td>\n",
       "      <td>C</td>\n",
       "      <td>Minor</td>\n",
       "      <td>5/4</td>\n",
       "    </tr>\n",
       "    <tr>\n",
       "      <th>3</th>\n",
       "      <td>Movie</td>\n",
       "      <td>Henri Salvador</td>\n",
       "      <td>Dis-moi Monsieur Gordon Cooper</td>\n",
       "      <td>0Gc6TVm52BwZD07Ki6tIvf</td>\n",
       "      <td>C#</td>\n",
       "      <td>Major</td>\n",
       "      <td>4/4</td>\n",
       "    </tr>\n",
       "    <tr>\n",
       "      <th>4</th>\n",
       "      <td>Movie</td>\n",
       "      <td>Fabien Nataf</td>\n",
       "      <td>Ouverture</td>\n",
       "      <td>0IuslXpMROHdEPvSl1fTQK</td>\n",
       "      <td>F</td>\n",
       "      <td>Major</td>\n",
       "      <td>4/4</td>\n",
       "    </tr>\n",
       "    <tr>\n",
       "      <th>...</th>\n",
       "      <td>...</td>\n",
       "      <td>...</td>\n",
       "      <td>...</td>\n",
       "      <td>...</td>\n",
       "      <td>...</td>\n",
       "      <td>...</td>\n",
       "      <td>...</td>\n",
       "    </tr>\n",
       "    <tr>\n",
       "      <th>232720</th>\n",
       "      <td>Soul</td>\n",
       "      <td>Slave</td>\n",
       "      <td>Son Of Slide</td>\n",
       "      <td>2XGLdVl7lGeq8ksM6Al7jT</td>\n",
       "      <td>D</td>\n",
       "      <td>Major</td>\n",
       "      <td>4/4</td>\n",
       "    </tr>\n",
       "    <tr>\n",
       "      <th>232721</th>\n",
       "      <td>Soul</td>\n",
       "      <td>Jr Thomas &amp; The Volcanos</td>\n",
       "      <td>Burning Fire</td>\n",
       "      <td>1qWZdkBl4UVPj9lK6HuuFM</td>\n",
       "      <td>E</td>\n",
       "      <td>Minor</td>\n",
       "      <td>4/4</td>\n",
       "    </tr>\n",
       "    <tr>\n",
       "      <th>232722</th>\n",
       "      <td>Soul</td>\n",
       "      <td>Muddy Waters</td>\n",
       "      <td>(I'm Your) Hoochie Coochie Man</td>\n",
       "      <td>2ziWXUmQLrXTiYjCg2fZ2t</td>\n",
       "      <td>D</td>\n",
       "      <td>Major</td>\n",
       "      <td>4/4</td>\n",
       "    </tr>\n",
       "    <tr>\n",
       "      <th>232723</th>\n",
       "      <td>Soul</td>\n",
       "      <td>R.LUM.R</td>\n",
       "      <td>With My Words</td>\n",
       "      <td>6EFsue2YbIG4Qkq8Zr9Rir</td>\n",
       "      <td>A</td>\n",
       "      <td>Major</td>\n",
       "      <td>4/4</td>\n",
       "    </tr>\n",
       "    <tr>\n",
       "      <th>232724</th>\n",
       "      <td>Soul</td>\n",
       "      <td>Mint Condition</td>\n",
       "      <td>You Don't Have To Hurt No More</td>\n",
       "      <td>34XO9RwPMKjbvRry54QzWn</td>\n",
       "      <td>G#</td>\n",
       "      <td>Minor</td>\n",
       "      <td>4/4</td>\n",
       "    </tr>\n",
       "  </tbody>\n",
       "</table>\n",
       "<p>232725 rows × 7 columns</p>\n",
       "</div>"
      ],
      "text/plain": [
       "        genre               artist_name                        track_name  \\\n",
       "0       Movie            Henri Salvador       C'est beau de faire un Show   \n",
       "1       Movie         Martin & les fées  Perdu d'avance (par Gad Elmaleh)   \n",
       "2       Movie           Joseph Williams    Don't Let Me Be Lonely Tonight   \n",
       "3       Movie            Henri Salvador    Dis-moi Monsieur Gordon Cooper   \n",
       "4       Movie              Fabien Nataf                         Ouverture   \n",
       "...       ...                       ...                               ...   \n",
       "232720   Soul                     Slave                      Son Of Slide   \n",
       "232721   Soul  Jr Thomas & The Volcanos                      Burning Fire   \n",
       "232722   Soul              Muddy Waters    (I'm Your) Hoochie Coochie Man   \n",
       "232723   Soul                   R.LUM.R                     With My Words   \n",
       "232724   Soul            Mint Condition    You Don't Have To Hurt No More   \n",
       "\n",
       "                      track_id key   mode time_signature  \n",
       "0       0BRjO6ga9RKCKjfDqeFgWV  C#  Major            4/4  \n",
       "1       0BjC1NfoEOOusryehmNudP  F#  Minor            4/4  \n",
       "2       0CoSDzoNIKCRs124s9uTVy   C  Minor            5/4  \n",
       "3       0Gc6TVm52BwZD07Ki6tIvf  C#  Major            4/4  \n",
       "4       0IuslXpMROHdEPvSl1fTQK   F  Major            4/4  \n",
       "...                        ...  ..    ...            ...  \n",
       "232720  2XGLdVl7lGeq8ksM6Al7jT   D  Major            4/4  \n",
       "232721  1qWZdkBl4UVPj9lK6HuuFM   E  Minor            4/4  \n",
       "232722  2ziWXUmQLrXTiYjCg2fZ2t   D  Major            4/4  \n",
       "232723  6EFsue2YbIG4Qkq8Zr9Rir   A  Major            4/4  \n",
       "232724  34XO9RwPMKjbvRry54QzWn  G#  Minor            4/4  \n",
       "\n",
       "[232725 rows x 7 columns]"
      ]
     },
     "execution_count": 10,
     "metadata": {},
     "output_type": "execute_result"
    }
   ],
   "source": [
    "colonnes_cat = df.select_dtypes(include=['object'])\n",
    "colonnes_cat"
   ]
  },
  {
   "cell_type": "markdown",
   "id": "b872e3d3",
   "metadata": {},
   "source": [
    "##### ***Genre***"
   ]
  },
  {
   "cell_type": "code",
   "execution_count": 11,
   "id": "538595aa",
   "metadata": {},
   "outputs": [
    {
     "data": {
      "text/plain": [
       "array(['Movie', 'R&B', 'A Capella', 'Alternative', 'Country', 'Dance',\n",
       "       'Electronic', 'Anime', 'Folk', 'Blues', 'Opera', 'Hip-Hop',\n",
       "       \"Children's Music\", 'Children’s Music', 'Rap', 'Indie',\n",
       "       'Classical', 'Pop', 'Reggae', 'Reggaeton', 'Jazz', 'Rock', 'Ska',\n",
       "       'Comedy', 'Soul', 'Soundtrack', 'World'], dtype=object)"
      ]
     },
     "execution_count": 11,
     "metadata": {},
     "output_type": "execute_result"
    }
   ],
   "source": [
    "df['genre'].unique()"
   ]
  },
  {
   "cell_type": "markdown",
   "id": "8c73b8cc",
   "metadata": {},
   "source": [
    "erreur observée : \"Children's Music\", 'Children’s Music'"
   ]
  },
  {
   "cell_type": "code",
   "execution_count": 12,
   "id": "031e5264",
   "metadata": {},
   "outputs": [
    {
     "name": "stdout",
     "output_type": "stream",
     "text": [
      "Il y a 27 genres uniques dans le dataset\n"
     ]
    }
   ],
   "source": [
    "print(f\"Il y a {df['genre'].nunique()} genres uniques dans le dataset\" )"
   ]
  },
  {
   "cell_type": "code",
   "execution_count": 13,
   "id": "ac13e678",
   "metadata": {},
   "outputs": [],
   "source": [
    "df['genre'] = df['genre'].str.replace('’', \"'\", regex=False)\n",
    "df['genre'] = df['genre'].str.lower().str.strip()"
   ]
  },
  {
   "cell_type": "code",
   "execution_count": 14,
   "id": "b96cfe22",
   "metadata": {},
   "outputs": [
    {
     "name": "stdout",
     "output_type": "stream",
     "text": [
      "Il y a 26 genres uniques dans le dataset\n"
     ]
    }
   ],
   "source": [
    "print(f\"Il y a {df['genre'].nunique()} genres uniques dans le dataset\" )"
   ]
  },
  {
   "cell_type": "markdown",
   "id": "77c4aa11",
   "metadata": {},
   "source": [
    "constat d'incohérence probant :imprim écran Céline Dion ou Francis Lalane "
   ]
  },
  {
   "cell_type": "markdown",
   "id": "72724ddb",
   "metadata": {},
   "source": [
    "Enrichissement à prévoir sur la colonne genre pour avoir plus de cohérence et retrouver la variété française."
   ]
  },
  {
   "cell_type": "markdown",
   "id": "9ef231b0",
   "metadata": {},
   "source": [
    "##### ***Artist name***\n"
   ]
  },
  {
   "cell_type": "code",
   "execution_count": 15,
   "id": "306f8479",
   "metadata": {},
   "outputs": [
    {
     "name": "stdout",
     "output_type": "stream",
     "text": [
      "Il y a 14564 noms d'artistes uniques dans ce dataset.\n"
     ]
    }
   ],
   "source": [
    "print(f\"Il y a {df['artist_name'].nunique()} noms d'artistes uniques dans ce dataset.\")"
   ]
  },
  {
   "cell_type": "code",
   "execution_count": 16,
   "id": "e4a651eb",
   "metadata": {},
   "outputs": [
    {
     "data": {
      "text/plain": [
       "artist_name\n",
       "Giuseppe Verdi              1394\n",
       "Giacomo Puccini             1137\n",
       "Kimbo Children's Music       971\n",
       "Nobuo Uematsu                825\n",
       "Richard Wagner               804\n",
       "Wolfgang Amadeus Mozart      800\n",
       "Randy Newman                 757\n",
       "Georges Bizet                701\n",
       "Juice Music                  684\n",
       "Johann Sebastian Bach        632\n",
       "Ludwig van Beethoven         596\n",
       "Hans Zimmer                  559\n",
       "Gioachino Rossini            491\n",
       "Chorus                       480\n",
       "Howard Shore                 479\n",
       "Drake                        477\n",
       "Henri Salvador               474\n",
       "John Williams                450\n",
       "Frédéric Chopin              436\n",
       "Alan Menken                  420\n",
       "Chris Brown                  392\n",
       "Bob Marley & The Wailers     380\n",
       "Dorothée                     378\n",
       "Gaetano Donizetti            377\n",
       "Children Songs Company       371\n",
       "Max Richter                  365\n",
       "Capcom Sound Team            326\n",
       "Future                       317\n",
       "Name: count, dtype: int64"
      ]
     },
     "execution_count": 16,
     "metadata": {},
     "output_type": "execute_result"
    }
   ],
   "source": [
    "df['artist_name'].value_counts().head(28)"
   ]
  },
  {
   "cell_type": "code",
   "execution_count": 17,
   "id": "9b36d764",
   "metadata": {},
   "outputs": [],
   "source": [
    "df['artist_name'] = df['artist_name'].str.replace('’', \"'\",  regex=False)  # apostrophe typographique\n",
    "df['artist_name'] = df['artist_name'].str.lower().str.strip()  # minuscule + suppression espaces    "
   ]
  },
  {
   "cell_type": "code",
   "execution_count": 18,
   "id": "0fd2cf43",
   "metadata": {},
   "outputs": [
    {
     "name": "stdout",
     "output_type": "stream",
     "text": [
      "Il y a 14561 noms d'artistes uniques dans ce dataset.\n"
     ]
    }
   ],
   "source": [
    "print(f\"Il y a {df['artist_name'].nunique()} noms d'artistes uniques dans ce dataset.\")"
   ]
  },
  {
   "cell_type": "markdown",
   "id": "e21df8da",
   "metadata": {},
   "source": [
    "Voir si pas d'autres fautes orthographes : \n",
    "- & et and par exemple.\n",
    "- retirer The"
   ]
  },
  {
   "cell_type": "markdown",
   "id": "78790c6c",
   "metadata": {},
   "source": [
    "L'artiste au plus grand nombre de titres dans le dataset est Verdi qui en compte 1394."
   ]
  },
  {
   "cell_type": "markdown",
   "id": "120ddbef",
   "metadata": {},
   "source": [
    "Voir "
   ]
  },
  {
   "cell_type": "markdown",
   "id": "a99d12b4",
   "metadata": {},
   "source": [
    "##### ***Track name***"
   ]
  },
  {
   "cell_type": "code",
   "execution_count": 19,
   "id": "cbf1bd8c",
   "metadata": {},
   "outputs": [
    {
     "name": "stdout",
     "output_type": "stream",
     "text": [
      "Il y a 148615 noms de titres uniques dans ce dataset.\n"
     ]
    }
   ],
   "source": [
    "print(f\"Il y a {df['track_name'].nunique()} noms de titres uniques dans ce dataset.\")"
   ]
  },
  {
   "cell_type": "code",
   "execution_count": 20,
   "id": "bb7c2394",
   "metadata": {},
   "outputs": [],
   "source": [
    "df['track_name'] = df['track_name'].str.replace('’', \"'\",  regex=False)  # apostrophe typographique\n",
    "df['track_name'] = df['track_name'].str.lower().str.strip()  # minuscule + suppression espaces    "
   ]
  },
  {
   "cell_type": "code",
   "execution_count": 21,
   "id": "cf17d060",
   "metadata": {},
   "outputs": [
    {
     "name": "stdout",
     "output_type": "stream",
     "text": [
      "Il y a 145281 noms de titres uniques dans ce dataset.\n"
     ]
    }
   ],
   "source": [
    "print(f\"Il y a {df['track_name'].nunique()} noms de titres uniques dans ce dataset.\")"
   ]
  },
  {
   "cell_type": "markdown",
   "id": "89dde974",
   "metadata": {},
   "source": [
    "Voir d'autres fautes d'orthographes."
   ]
  },
  {
   "cell_type": "markdown",
   "id": "df9cca93",
   "metadata": {},
   "source": [
    "#####  ***Track id***"
   ]
  },
  {
   "cell_type": "code",
   "execution_count": 22,
   "id": "e934d4f8",
   "metadata": {},
   "outputs": [
    {
     "name": "stdout",
     "output_type": "stream",
     "text": [
      "Il y a 176774 URI uniques dans ce dataset.\n"
     ]
    }
   ],
   "source": [
    "print(f\"Il y a {df['track_id'].nunique()} URI uniques dans ce dataset.\")"
   ]
  },
  {
   "cell_type": "code",
   "execution_count": 23,
   "id": "917a9822",
   "metadata": {},
   "outputs": [
    {
     "data": {
      "text/plain": [
       "track_id\n",
       "6sVQNUvcVFTXvlk3ec0ngd    8\n",
       "3R73Y7X53MIQZWnKloWq5i    8\n",
       "6AIte2Iej1QKlaofpjCzW1    8\n",
       "0UE0RhnRaEYsiYgXpyLoZc    8\n",
       "3uSSjnDMmoyERaAK9KvpJR    8\n",
       "0wY9rA9fJkuESyYm9uzVK5    8\n",
       "5g3TDpgy1J1woAUVuj21EE    7\n",
       "3nXrCAE44KlevAkQB2XWcN    7\n",
       "6M6UoxIPn4NOWW0x7JPRfv    7\n",
       "6NqbN00vLmWfrQSx2wjD4z    7\n",
       "3GZD6HmiNUhxXYf8Gch723    7\n",
       "4tggZyGJMNJMooWuRbvN5q    7\n",
       "5rAff9XfcWx7rguN3t0fkW    7\n",
       "1FTSo4v6BOZH9QxKc3MbVM    7\n",
       "5gW5dSy3vXJxgzma4rQuzH    7\n",
       "2q0VexHJirnUPnEOhr2DxK    7\n",
       "5lcyIeEfwZTs8Ajw3kdF7P    7\n",
       "7qCZgvV98j6RjUULW1s1it    7\n",
       "6TFUZ8Bt1brEwomY90SKXi    7\n",
       "4bnjq8zqtCnxTGxll5ezOO    7\n",
       "5YxaccATvDTIOpue7vu6Tn    7\n",
       "7rAUH8YZRvGyZ5wmoKjYbG    7\n",
       "2CInzVilMduj9L8dDXwyUA    7\n",
       "6INaSJ4clfZ8pvXSGZQnJ7    7\n",
       "6NueIkCzLhp4rXpNAiXDdh    7\n",
       "1HwbgJAU9PZ7YbzKgVgoIF    7\n",
       "2gE0khQ948RYQOeTgCUL2a    7\n",
       "0725YWm6Z0TpZ6wrNk64Eb    7\n",
       "Name: count, dtype: int64"
      ]
     },
     "execution_count": 23,
     "metadata": {},
     "output_type": "execute_result"
    }
   ],
   "source": [
    "df['track_id'].value_counts().head(28)"
   ]
  },
  {
   "cell_type": "markdown",
   "id": "14bea1f6",
   "metadata": {},
   "source": [
    "##### **Analyse croisée artist_name / track_name :**"
   ]
  },
  {
   "cell_type": "code",
   "execution_count": 24,
   "id": "6abf0dc8",
   "metadata": {},
   "outputs": [
    {
     "data": {
      "text/plain": [
       "Series([], Name: count, dtype: int64)"
      ]
     },
     "execution_count": 24,
     "metadata": {},
     "output_type": "execute_result"
    }
   ],
   "source": [
    "df[df['artist_name'] == 'Giuseppe Verdi']['track_name'].value_counts().head(10)"
   ]
  },
  {
   "cell_type": "markdown",
   "id": "5bfa7dca",
   "metadata": {},
   "source": [
    "En prenant Verdi pour exemple on observe qu'un même titre peut apparaitre plusieurs fois dans le dataset."
   ]
  },
  {
   "cell_type": "markdown",
   "id": "28f693e7",
   "metadata": {},
   "source": [
    "Pour éviter les doublons, nous conservons la version la plus populaire pour chaque couple track_name / artist_name."
   ]
  },
  {
   "cell_type": "code",
   "execution_count": 25,
   "id": "df171b33",
   "metadata": {},
   "outputs": [
    {
     "name": "stdout",
     "output_type": "stream",
     "text": [
      "Le dataset a désormais 175614 lignes.\n"
     ]
    }
   ],
   "source": [
    "df= df.loc[df.groupby(['track_name', 'artist_name'])['popularity'].idxmax()]\n",
    "print(f\"Le dataset a désormais {len(df)} lignes.\")"
   ]
  },
  {
   "cell_type": "markdown",
   "id": "ef06482c",
   "metadata": {},
   "source": [
    "##### ***Key***"
   ]
  },
  {
   "cell_type": "code",
   "execution_count": 26,
   "id": "62051aa1",
   "metadata": {},
   "outputs": [
    {
     "data": {
      "text/plain": [
       "array(['F', 'C#', 'G#', 'C', 'D', 'D#', 'G', 'B', 'A#', 'A', 'E', 'F#'],\n",
       "      dtype=object)"
      ]
     },
     "execution_count": 26,
     "metadata": {},
     "output_type": "execute_result"
    }
   ],
   "source": [
    "df['key'].unique()"
   ]
  },
  {
   "cell_type": "code",
   "execution_count": 27,
   "id": "5d75beb6",
   "metadata": {},
   "outputs": [
    {
     "data": {
      "image/png": "[encoded data removed]",
      "text/plain": [
       "<Figure size 640x480 with 1 Axes>"
      ]
     },
     "metadata": {},
     "output_type": "display_data"
    }
   ],
   "source": [
    "counts_key = df['key'].value_counts()\n",
    "sns.histplot(data=df, x=\"key\")\n",
    "plt.title('Distribution de la colonne key')\n",
    "plt.xlabel('key')\n",
    "plt.ylabel('Nombre de pistes')\n",
    "plt.show()"
   ]
  },
  {
   "cell_type": "code",
   "execution_count": 28,
   "id": "936a6cc0",
   "metadata": {},
   "outputs": [
    {
     "name": "stderr",
     "output_type": "stream",
     "text": [
      "/tmp/ipykernel_18130/2659825684.py:7: FutureWarning: \n",
      "\n",
      "Passing `palette` without assigning `hue` is deprecated and will be removed in v0.14.0. Assign the `x` variable to `hue` and set `legend=False` for the same effect.\n",
      "\n",
      "  ax = sns.boxplot(\n"
     ]
    },
    {
     "data": {
      "image/png": "[encoded data removed]",
      "text/plain": [
       "<Figure size 640x480 with 1 Axes>"
      ]
     },
     "metadata": {},
     "output_type": "display_data"
    }
   ],
   "source": [
    "# Boxplot pour la variable \"key\"\n",
    "# Objectif : visualiser la distribution d'une variable numérique (par exemple \"popularity\") selon chaque tonalité (\"key\")\n",
    "\n",
    "sns.set_style(\"whitegrid\")  # Ajoute une grille de fond pour une meilleure lisibilité\n",
    "\n",
    "# Création du boxplot : on affiche la distribution de la popularité pour chaque \"key\"\n",
    "ax = sns.boxplot(\n",
    "    data=df,                  # DataFrame contenant les données\n",
    "    x=\"key\",                          # Variable catégorielle sur l'axe des x (tonalité)\n",
    "    y=\"popularity\",                   # Variable numérique sur l'axe des y (exemple : popularité)\n",
    "    palette=\"cubehelix\",              # Palette de couleurs pour différencier les tonalités\n",
    "    order=sorted(df[\"key\"].unique())  # Trie les tonalités pour un affichage ordonné\n",
    ")\n",
    "\n",
    "# Ajout d'un titre et de labels explicites pour les axes\n",
    "plt.title('Distribution de la popularité selon la tonalité (key)', fontsize=15)\n",
    "plt.xlabel('Tonalité (key)', fontsize=12)\n",
    "plt.ylabel('Popularité', fontsize=12)\n",
    "\n",
    "# Optionnel : rotation des labels x pour une meilleure lisibilité\n",
    "plt.xticks(rotation=45)\n",
    "\n",
    "# Affichage du graphique final\n",
    "plt.show()"
   ]
  },
  {
   "cell_type": "markdown",
   "id": "df00014d",
   "metadata": {},
   "source": [
    "Voir les corrélations avec mode et valence dans la suite de l'analyse."
   ]
  },
  {
   "cell_type": "markdown",
   "id": "b578f65e",
   "metadata": {},
   "source": [
    "Commentaire d'analyse"
   ]
  },
  {
   "cell_type": "markdown",
   "id": "0db3e85f",
   "metadata": {},
   "source": [
    "##### ***Mode***"
   ]
  },
  {
   "cell_type": "code",
   "execution_count": 29,
   "id": "54e3da84",
   "metadata": {},
   "outputs": [
    {
     "data": {
      "text/plain": [
       "array(['Major', 'Minor'], dtype=object)"
      ]
     },
     "execution_count": 29,
     "metadata": {},
     "output_type": "execute_result"
    }
   ],
   "source": [
    "df[\"mode\"].unique()"
   ]
  },
  {
   "cell_type": "code",
   "execution_count": 30,
   "id": "7cdfbd83",
   "metadata": {},
   "outputs": [
    {
     "data": {
      "image/png": "[encoded data removed]",
      "text/plain": [
       "<Figure size 640x480 with 1 Axes>"
      ]
     },
     "metadata": {},
     "output_type": "display_data"
    }
   ],
   "source": [
    "counts = df['mode'].value_counts()\n",
    "counts.plot(kind='bar')\n",
    "plt.title('Distribution de la colonne mode')\n",
    "plt.xlabel('Mode')\n",
    "plt.ylabel('Nombre de pistes')\n",
    "plt.show()"
   ]
  },
  {
   "cell_type": "markdown",
   "id": "6437b5d2",
   "metadata": {},
   "source": [
    "COmmentaires?"
   ]
  },
  {
   "cell_type": "markdown",
   "id": "e8000833",
   "metadata": {},
   "source": [
    "***Time signature***"
   ]
  },
  {
   "cell_type": "code",
   "execution_count": 31,
   "id": "4de52f87",
   "metadata": {},
   "outputs": [
    {
     "data": {
      "text/plain": [
       "count     175614\n",
       "unique         5\n",
       "top          4/4\n",
       "freq      148228\n",
       "Name: time_signature, dtype: object"
      ]
     },
     "execution_count": 31,
     "metadata": {},
     "output_type": "execute_result"
    }
   ],
   "source": [
    "df['time_signature'].describe()"
   ]
  },
  {
   "cell_type": "code",
   "execution_count": 32,
   "id": "0ab9fa5d",
   "metadata": {},
   "outputs": [
    {
     "data": {
      "text/plain": [
       "array(['4/4', '3/4', '5/4', '1/4', '0/4'], dtype=object)"
      ]
     },
     "execution_count": 32,
     "metadata": {},
     "output_type": "execute_result"
    }
   ],
   "source": [
    "df['time_signature'].unique()"
   ]
  },
  {
   "cell_type": "code",
   "execution_count": 33,
   "id": "f4f7a5e9",
   "metadata": {},
   "outputs": [
    {
     "data": {
      "image/png": "[encoded data removed]",
      "text/plain": [
       "<Figure size 1000x100 with 1 Axes>"
      ]
     },
     "metadata": {},
     "output_type": "display_data"
    }
   ],
   "source": [
    "plt.figure(figsize=(10, 1))\n",
    "sns.countplot(x=df['time_signature'])\n",
    "plt.title(\"countplot de la colonne 'time_signature'\")\n",
    "plt.show()"
   ]
  },
  {
   "cell_type": "markdown",
   "id": "e0babe57",
   "metadata": {},
   "source": [
    "- je supprime les valeurs aberrantes 0 Impossible en musique → à supprimer\n",
    "- et 1 Musicalement peu plausible → probablement une erreur de parsing ou un tag incohérent"
   ]
  },
  {
   "cell_type": "markdown",
   "id": "47121988",
   "metadata": {},
   "source": [
    "Verifier 1/4 si la valeur n'est pas mal enregistrée."
   ]
  },
  {
   "cell_type": "code",
   "execution_count": 34,
   "id": "009d4836",
   "metadata": {},
   "outputs": [
    {
     "data": {
      "text/html": [
       "<div>\n",
       "<style scoped>\n",
       "    .dataframe tbody tr th:only-of-type {\n",
       "        vertical-align: middle;\n",
       "    }\n",
       "\n",
       "    .dataframe tbody tr th {\n",
       "        vertical-align: top;\n",
       "    }\n",
       "\n",
       "    .dataframe thead th {\n",
       "        text-align: right;\n",
       "    }\n",
       "</style>\n",
       "<table border=\"1\" class=\"dataframe\">\n",
       "  <thead>\n",
       "    <tr style=\"text-align: right;\">\n",
       "      <th></th>\n",
       "      <th>genre</th>\n",
       "      <th>artist_name</th>\n",
       "      <th>track_name</th>\n",
       "      <th>track_id</th>\n",
       "      <th>popularity</th>\n",
       "      <th>acousticness</th>\n",
       "      <th>danceability</th>\n",
       "      <th>duration_ms</th>\n",
       "      <th>energy</th>\n",
       "      <th>instrumentalness</th>\n",
       "      <th>key</th>\n",
       "      <th>liveness</th>\n",
       "      <th>loudness</th>\n",
       "      <th>mode</th>\n",
       "      <th>speechiness</th>\n",
       "      <th>tempo</th>\n",
       "      <th>time_signature</th>\n",
       "      <th>valence</th>\n",
       "    </tr>\n",
       "  </thead>\n",
       "  <tbody>\n",
       "    <tr>\n",
       "      <th>58300</th>\n",
       "      <td>opera</td>\n",
       "      <td>maria callas</td>\n",
       "      <td>\" la traviata \" : amami alfredo (act ii) - dig...</td>\n",
       "      <td>0wtpkz93wATDkUExJVuXEl</td>\n",
       "      <td>31</td>\n",
       "      <td>0.993000</td>\n",
       "      <td>0.364</td>\n",
       "      <td>131933</td>\n",
       "      <td>0.275</td>\n",
       "      <td>0.028400</td>\n",
       "      <td>F</td>\n",
       "      <td>0.293</td>\n",
       "      <td>-11.832</td>\n",
       "      <td>Major</td>\n",
       "      <td>0.0430</td>\n",
       "      <td>86.096</td>\n",
       "      <td>4</td>\n",
       "      <td>0.0394</td>\n",
       "    </tr>\n",
       "    <tr>\n",
       "      <th>32571</th>\n",
       "      <td>anime</td>\n",
       "      <td>yuki hayashi</td>\n",
       "      <td>\"1点\"</td>\n",
       "      <td>7JkDONXIbcKUQ7QzlLBumL</td>\n",
       "      <td>23</td>\n",
       "      <td>0.025000</td>\n",
       "      <td>0.250</td>\n",
       "      <td>158000</td>\n",
       "      <td>0.762</td>\n",
       "      <td>0.516000</td>\n",
       "      <td>C#</td>\n",
       "      <td>0.094</td>\n",
       "      <td>-12.794</td>\n",
       "      <td>Minor</td>\n",
       "      <td>0.0468</td>\n",
       "      <td>89.093</td>\n",
       "      <td>3</td>\n",
       "      <td>0.0835</td>\n",
       "    </tr>\n",
       "    <tr>\n",
       "      <th>89661</th>\n",
       "      <td>hip-hop</td>\n",
       "      <td>rae sremmurd</td>\n",
       "      <td>\"42\" - from sr3mm</td>\n",
       "      <td>5lf91lPnGKtIqsgmG1z8Ip</td>\n",
       "      <td>53</td>\n",
       "      <td>0.002750</td>\n",
       "      <td>0.968</td>\n",
       "      <td>238020</td>\n",
       "      <td>0.563</td>\n",
       "      <td>0.000000</td>\n",
       "      <td>C#</td>\n",
       "      <td>0.108</td>\n",
       "      <td>-6.744</td>\n",
       "      <td>Major</td>\n",
       "      <td>0.1250</td>\n",
       "      <td>130.039</td>\n",
       "      <td>4</td>\n",
       "      <td>0.3240</td>\n",
       "    </tr>\n",
       "    <tr>\n",
       "      <th>142359</th>\n",
       "      <td>indie</td>\n",
       "      <td>the gaslight anthem</td>\n",
       "      <td>\"45\"</td>\n",
       "      <td>25Sd73fleKUVPNqITPZkn1</td>\n",
       "      <td>48</td>\n",
       "      <td>0.000696</td>\n",
       "      <td>0.315</td>\n",
       "      <td>202493</td>\n",
       "      <td>0.970</td>\n",
       "      <td>0.000000</td>\n",
       "      <td>G#</td>\n",
       "      <td>0.277</td>\n",
       "      <td>-4.709</td>\n",
       "      <td>Major</td>\n",
       "      <td>0.1020</td>\n",
       "      <td>178.068</td>\n",
       "      <td>4</td>\n",
       "      <td>0.4230</td>\n",
       "    </tr>\n",
       "    <tr>\n",
       "      <th>33675</th>\n",
       "      <td>anime</td>\n",
       "      <td>yuki hayashi</td>\n",
       "      <td>\"6人で(強い方が強い)\"</td>\n",
       "      <td>0qwK0LvMyAQ7J1rEEL6nbr</td>\n",
       "      <td>17</td>\n",
       "      <td>0.971000</td>\n",
       "      <td>0.176</td>\n",
       "      <td>171000</td>\n",
       "      <td>0.125</td>\n",
       "      <td>0.904000</td>\n",
       "      <td>C</td>\n",
       "      <td>0.129</td>\n",
       "      <td>-16.699</td>\n",
       "      <td>Major</td>\n",
       "      <td>0.0349</td>\n",
       "      <td>136.076</td>\n",
       "      <td>3</td>\n",
       "      <td>0.0461</td>\n",
       "    </tr>\n",
       "    <tr>\n",
       "      <th>...</th>\n",
       "      <td>...</td>\n",
       "      <td>...</td>\n",
       "      <td>...</td>\n",
       "      <td>...</td>\n",
       "      <td>...</td>\n",
       "      <td>...</td>\n",
       "      <td>...</td>\n",
       "      <td>...</td>\n",
       "      <td>...</td>\n",
       "      <td>...</td>\n",
       "      <td>...</td>\n",
       "      <td>...</td>\n",
       "      <td>...</td>\n",
       "      <td>...</td>\n",
       "      <td>...</td>\n",
       "      <td>...</td>\n",
       "      <td>...</td>\n",
       "      <td>...</td>\n",
       "    </tr>\n",
       "    <tr>\n",
       "      <th>150871</th>\n",
       "      <td>pop</td>\n",
       "      <td>got7</td>\n",
       "      <td>하드캐리 hard carry</td>\n",
       "      <td>7Cd4glTUgV0vr0DBncEg8S</td>\n",
       "      <td>63</td>\n",
       "      <td>0.014800</td>\n",
       "      <td>0.700</td>\n",
       "      <td>193579</td>\n",
       "      <td>0.873</td>\n",
       "      <td>0.000000</td>\n",
       "      <td>C#</td>\n",
       "      <td>0.343</td>\n",
       "      <td>-2.901</td>\n",
       "      <td>Major</td>\n",
       "      <td>0.0869</td>\n",
       "      <td>99.972</td>\n",
       "      <td>4</td>\n",
       "      <td>0.6120</td>\n",
       "    </tr>\n",
       "    <tr>\n",
       "      <th>219320</th>\n",
       "      <td>world</td>\n",
       "      <td>park hyo shin</td>\n",
       "      <td>해줄 수 없는 일 haejul su eomneun il</td>\n",
       "      <td>3Kk075LR7Bj2bUH1mB3TIZ</td>\n",
       "      <td>30</td>\n",
       "      <td>0.729000</td>\n",
       "      <td>0.332</td>\n",
       "      <td>260600</td>\n",
       "      <td>0.493</td>\n",
       "      <td>0.000000</td>\n",
       "      <td>C</td>\n",
       "      <td>0.165</td>\n",
       "      <td>-6.126</td>\n",
       "      <td>Major</td>\n",
       "      <td>0.0318</td>\n",
       "      <td>110.024</td>\n",
       "      <td>4</td>\n",
       "      <td>0.1550</td>\n",
       "    </tr>\n",
       "    <tr>\n",
       "      <th>149889</th>\n",
       "      <td>pop</td>\n",
       "      <td>day6</td>\n",
       "      <td>행복했던 날들이었다 days gone by</td>\n",
       "      <td>3TE3SbiWrm69WyUl8BlZEV</td>\n",
       "      <td>64</td>\n",
       "      <td>0.002110</td>\n",
       "      <td>0.613</td>\n",
       "      <td>205149</td>\n",
       "      <td>0.874</td>\n",
       "      <td>0.000000</td>\n",
       "      <td>C</td>\n",
       "      <td>0.134</td>\n",
       "      <td>-3.712</td>\n",
       "      <td>Minor</td>\n",
       "      <td>0.0335</td>\n",
       "      <td>102.975</td>\n",
       "      <td>4</td>\n",
       "      <td>0.6510</td>\n",
       "    </tr>\n",
       "    <tr>\n",
       "      <th>220337</th>\n",
       "      <td>world</td>\n",
       "      <td>lee moon sae</td>\n",
       "      <td>휘파람</td>\n",
       "      <td>3G9dGrDJAPTDtJCGk8VF5i</td>\n",
       "      <td>27</td>\n",
       "      <td>0.513000</td>\n",
       "      <td>0.521</td>\n",
       "      <td>298760</td>\n",
       "      <td>0.423</td>\n",
       "      <td>0.000004</td>\n",
       "      <td>D</td>\n",
       "      <td>0.131</td>\n",
       "      <td>-6.770</td>\n",
       "      <td>Minor</td>\n",
       "      <td>0.0324</td>\n",
       "      <td>59.036</td>\n",
       "      <td>4</td>\n",
       "      <td>0.2740</td>\n",
       "    </tr>\n",
       "    <tr>\n",
       "      <th>219463</th>\n",
       "      <td>world</td>\n",
       "      <td>sung si-kyung</td>\n",
       "      <td>희재</td>\n",
       "      <td>3Ijb2UjPpI9RW6eSvR4Eve</td>\n",
       "      <td>34</td>\n",
       "      <td>0.438000</td>\n",
       "      <td>0.460</td>\n",
       "      <td>281293</td>\n",
       "      <td>0.498</td>\n",
       "      <td>0.000000</td>\n",
       "      <td>E</td>\n",
       "      <td>0.331</td>\n",
       "      <td>-6.632</td>\n",
       "      <td>Major</td>\n",
       "      <td>0.0321</td>\n",
       "      <td>119.984</td>\n",
       "      <td>4</td>\n",
       "      <td>0.1620</td>\n",
       "    </tr>\n",
       "  </tbody>\n",
       "</table>\n",
       "<p>173281 rows × 18 columns</p>\n",
       "</div>"
      ],
      "text/plain": [
       "          genre          artist_name  \\\n",
       "58300     opera         maria callas   \n",
       "32571     anime         yuki hayashi   \n",
       "89661   hip-hop         rae sremmurd   \n",
       "142359    indie  the gaslight anthem   \n",
       "33675     anime         yuki hayashi   \n",
       "...         ...                  ...   \n",
       "150871      pop                 got7   \n",
       "219320    world        park hyo shin   \n",
       "149889      pop                 day6   \n",
       "220337    world         lee moon sae   \n",
       "219463    world        sung si-kyung   \n",
       "\n",
       "                                               track_name  \\\n",
       "58300   \" la traviata \" : amami alfredo (act ii) - dig...   \n",
       "32571                                                \"1点\"   \n",
       "89661                                   \"42\" - from sr3mm   \n",
       "142359                                               \"45\"   \n",
       "33675                                       \"6人で(強い方が強い)\"   \n",
       "...                                                   ...   \n",
       "150871                                    하드캐리 hard carry   \n",
       "219320                     해줄 수 없는 일 haejul su eomneun il   \n",
       "149889                            행복했던 날들이었다 days gone by   \n",
       "220337                                                휘파람   \n",
       "219463                                                 희재   \n",
       "\n",
       "                      track_id  popularity  acousticness  danceability  \\\n",
       "58300   0wtpkz93wATDkUExJVuXEl          31      0.993000         0.364   \n",
       "32571   7JkDONXIbcKUQ7QzlLBumL          23      0.025000         0.250   \n",
       "89661   5lf91lPnGKtIqsgmG1z8Ip          53      0.002750         0.968   \n",
       "142359  25Sd73fleKUVPNqITPZkn1          48      0.000696         0.315   \n",
       "33675   0qwK0LvMyAQ7J1rEEL6nbr          17      0.971000         0.176   \n",
       "...                        ...         ...           ...           ...   \n",
       "150871  7Cd4glTUgV0vr0DBncEg8S          63      0.014800         0.700   \n",
       "219320  3Kk075LR7Bj2bUH1mB3TIZ          30      0.729000         0.332   \n",
       "149889  3TE3SbiWrm69WyUl8BlZEV          64      0.002110         0.613   \n",
       "220337  3G9dGrDJAPTDtJCGk8VF5i          27      0.513000         0.521   \n",
       "219463  3Ijb2UjPpI9RW6eSvR4Eve          34      0.438000         0.460   \n",
       "\n",
       "        duration_ms  energy  instrumentalness key  liveness  loudness   mode  \\\n",
       "58300        131933   0.275          0.028400   F     0.293   -11.832  Major   \n",
       "32571        158000   0.762          0.516000  C#     0.094   -12.794  Minor   \n",
       "89661        238020   0.563          0.000000  C#     0.108    -6.744  Major   \n",
       "142359       202493   0.970          0.000000  G#     0.277    -4.709  Major   \n",
       "33675        171000   0.125          0.904000   C     0.129   -16.699  Major   \n",
       "...             ...     ...               ...  ..       ...       ...    ...   \n",
       "150871       193579   0.873          0.000000  C#     0.343    -2.901  Major   \n",
       "219320       260600   0.493          0.000000   C     0.165    -6.126  Major   \n",
       "149889       205149   0.874          0.000000   C     0.134    -3.712  Minor   \n",
       "220337       298760   0.423          0.000004   D     0.131    -6.770  Minor   \n",
       "219463       281293   0.498          0.000000   E     0.331    -6.632  Major   \n",
       "\n",
       "        speechiness    tempo  time_signature  valence  \n",
       "58300        0.0430   86.096               4   0.0394  \n",
       "32571        0.0468   89.093               3   0.0835  \n",
       "89661        0.1250  130.039               4   0.3240  \n",
       "142359       0.1020  178.068               4   0.4230  \n",
       "33675        0.0349  136.076               3   0.0461  \n",
       "...             ...      ...             ...      ...  \n",
       "150871       0.0869   99.972               4   0.6120  \n",
       "219320       0.0318  110.024               4   0.1550  \n",
       "149889       0.0335  102.975               4   0.6510  \n",
       "220337       0.0324   59.036               4   0.2740  \n",
       "219463       0.0321  119.984               4   0.1620  \n",
       "\n",
       "[173281 rows x 18 columns]"
      ]
     },
     "execution_count": 34,
     "metadata": {},
     "output_type": "execute_result"
    }
   ],
   "source": [
    "# Extraire uniquement le numérateur de la signature (4, 5, 3, etc.) pour en faire une colonne numérique propre.\n",
    "# Étape 1 : Extraire la partie avant le '/' et la convertir en entier\n",
    "df['time_signature_clean'] = df['time_signature'].str.extract(r'^(\\d+)').astype('Int64')\n",
    "df['time_signature'] = df['time_signature_clean']\n",
    "df.drop(columns='time_signature_clean', inplace=True)\n",
    "\n",
    "\n",
    "df = df[df['time_signature'].isin([3, 4, 5])]\n",
    "df"
   ]
  },
  {
   "cell_type": "markdown",
   "id": "a737f862",
   "metadata": {},
   "source": [
    "#### **Colonnes numériques**"
   ]
  },
  {
   "cell_type": "code",
   "execution_count": 35,
   "id": "cb22ba61",
   "metadata": {},
   "outputs": [
    {
     "data": {
      "text/html": [
       "<div>\n",
       "<style scoped>\n",
       "    .dataframe tbody tr th:only-of-type {\n",
       "        vertical-align: middle;\n",
       "    }\n",
       "\n",
       "    .dataframe tbody tr th {\n",
       "        vertical-align: top;\n",
       "    }\n",
       "\n",
       "    .dataframe thead th {\n",
       "        text-align: right;\n",
       "    }\n",
       "</style>\n",
       "<table border=\"1\" class=\"dataframe\">\n",
       "  <thead>\n",
       "    <tr style=\"text-align: right;\">\n",
       "      <th></th>\n",
       "      <th>popularity</th>\n",
       "      <th>acousticness</th>\n",
       "      <th>danceability</th>\n",
       "      <th>duration_ms</th>\n",
       "      <th>energy</th>\n",
       "      <th>instrumentalness</th>\n",
       "      <th>liveness</th>\n",
       "      <th>loudness</th>\n",
       "      <th>speechiness</th>\n",
       "      <th>tempo</th>\n",
       "      <th>time_signature</th>\n",
       "      <th>valence</th>\n",
       "    </tr>\n",
       "  </thead>\n",
       "  <tbody>\n",
       "    <tr>\n",
       "      <th>58300</th>\n",
       "      <td>31</td>\n",
       "      <td>0.993000</td>\n",
       "      <td>0.364</td>\n",
       "      <td>131933</td>\n",
       "      <td>0.275</td>\n",
       "      <td>0.028400</td>\n",
       "      <td>0.293</td>\n",
       "      <td>-11.832</td>\n",
       "      <td>0.0430</td>\n",
       "      <td>86.096</td>\n",
       "      <td>4</td>\n",
       "      <td>0.0394</td>\n",
       "    </tr>\n",
       "    <tr>\n",
       "      <th>32571</th>\n",
       "      <td>23</td>\n",
       "      <td>0.025000</td>\n",
       "      <td>0.250</td>\n",
       "      <td>158000</td>\n",
       "      <td>0.762</td>\n",
       "      <td>0.516000</td>\n",
       "      <td>0.094</td>\n",
       "      <td>-12.794</td>\n",
       "      <td>0.0468</td>\n",
       "      <td>89.093</td>\n",
       "      <td>3</td>\n",
       "      <td>0.0835</td>\n",
       "    </tr>\n",
       "    <tr>\n",
       "      <th>89661</th>\n",
       "      <td>53</td>\n",
       "      <td>0.002750</td>\n",
       "      <td>0.968</td>\n",
       "      <td>238020</td>\n",
       "      <td>0.563</td>\n",
       "      <td>0.000000</td>\n",
       "      <td>0.108</td>\n",
       "      <td>-6.744</td>\n",
       "      <td>0.1250</td>\n",
       "      <td>130.039</td>\n",
       "      <td>4</td>\n",
       "      <td>0.3240</td>\n",
       "    </tr>\n",
       "    <tr>\n",
       "      <th>142359</th>\n",
       "      <td>48</td>\n",
       "      <td>0.000696</td>\n",
       "      <td>0.315</td>\n",
       "      <td>202493</td>\n",
       "      <td>0.970</td>\n",
       "      <td>0.000000</td>\n",
       "      <td>0.277</td>\n",
       "      <td>-4.709</td>\n",
       "      <td>0.1020</td>\n",
       "      <td>178.068</td>\n",
       "      <td>4</td>\n",
       "      <td>0.4230</td>\n",
       "    </tr>\n",
       "    <tr>\n",
       "      <th>33675</th>\n",
       "      <td>17</td>\n",
       "      <td>0.971000</td>\n",
       "      <td>0.176</td>\n",
       "      <td>171000</td>\n",
       "      <td>0.125</td>\n",
       "      <td>0.904000</td>\n",
       "      <td>0.129</td>\n",
       "      <td>-16.699</td>\n",
       "      <td>0.0349</td>\n",
       "      <td>136.076</td>\n",
       "      <td>3</td>\n",
       "      <td>0.0461</td>\n",
       "    </tr>\n",
       "    <tr>\n",
       "      <th>...</th>\n",
       "      <td>...</td>\n",
       "      <td>...</td>\n",
       "      <td>...</td>\n",
       "      <td>...</td>\n",
       "      <td>...</td>\n",
       "      <td>...</td>\n",
       "      <td>...</td>\n",
       "      <td>...</td>\n",
       "      <td>...</td>\n",
       "      <td>...</td>\n",
       "      <td>...</td>\n",
       "      <td>...</td>\n",
       "    </tr>\n",
       "    <tr>\n",
       "      <th>150871</th>\n",
       "      <td>63</td>\n",
       "      <td>0.014800</td>\n",
       "      <td>0.700</td>\n",
       "      <td>193579</td>\n",
       "      <td>0.873</td>\n",
       "      <td>0.000000</td>\n",
       "      <td>0.343</td>\n",
       "      <td>-2.901</td>\n",
       "      <td>0.0869</td>\n",
       "      <td>99.972</td>\n",
       "      <td>4</td>\n",
       "      <td>0.6120</td>\n",
       "    </tr>\n",
       "    <tr>\n",
       "      <th>219320</th>\n",
       "      <td>30</td>\n",
       "      <td>0.729000</td>\n",
       "      <td>0.332</td>\n",
       "      <td>260600</td>\n",
       "      <td>0.493</td>\n",
       "      <td>0.000000</td>\n",
       "      <td>0.165</td>\n",
       "      <td>-6.126</td>\n",
       "      <td>0.0318</td>\n",
       "      <td>110.024</td>\n",
       "      <td>4</td>\n",
       "      <td>0.1550</td>\n",
       "    </tr>\n",
       "    <tr>\n",
       "      <th>149889</th>\n",
       "      <td>64</td>\n",
       "      <td>0.002110</td>\n",
       "      <td>0.613</td>\n",
       "      <td>205149</td>\n",
       "      <td>0.874</td>\n",
       "      <td>0.000000</td>\n",
       "      <td>0.134</td>\n",
       "      <td>-3.712</td>\n",
       "      <td>0.0335</td>\n",
       "      <td>102.975</td>\n",
       "      <td>4</td>\n",
       "      <td>0.6510</td>\n",
       "    </tr>\n",
       "    <tr>\n",
       "      <th>220337</th>\n",
       "      <td>27</td>\n",
       "      <td>0.513000</td>\n",
       "      <td>0.521</td>\n",
       "      <td>298760</td>\n",
       "      <td>0.423</td>\n",
       "      <td>0.000004</td>\n",
       "      <td>0.131</td>\n",
       "      <td>-6.770</td>\n",
       "      <td>0.0324</td>\n",
       "      <td>59.036</td>\n",
       "      <td>4</td>\n",
       "      <td>0.2740</td>\n",
       "    </tr>\n",
       "    <tr>\n",
       "      <th>219463</th>\n",
       "      <td>34</td>\n",
       "      <td>0.438000</td>\n",
       "      <td>0.460</td>\n",
       "      <td>281293</td>\n",
       "      <td>0.498</td>\n",
       "      <td>0.000000</td>\n",
       "      <td>0.331</td>\n",
       "      <td>-6.632</td>\n",
       "      <td>0.0321</td>\n",
       "      <td>119.984</td>\n",
       "      <td>4</td>\n",
       "      <td>0.1620</td>\n",
       "    </tr>\n",
       "  </tbody>\n",
       "</table>\n",
       "<p>173281 rows × 12 columns</p>\n",
       "</div>"
      ],
      "text/plain": [
       "        popularity  acousticness  danceability  duration_ms  energy  \\\n",
       "58300           31      0.993000         0.364       131933   0.275   \n",
       "32571           23      0.025000         0.250       158000   0.762   \n",
       "89661           53      0.002750         0.968       238020   0.563   \n",
       "142359          48      0.000696         0.315       202493   0.970   \n",
       "33675           17      0.971000         0.176       171000   0.125   \n",
       "...            ...           ...           ...          ...     ...   \n",
       "150871          63      0.014800         0.700       193579   0.873   \n",
       "219320          30      0.729000         0.332       260600   0.493   \n",
       "149889          64      0.002110         0.613       205149   0.874   \n",
       "220337          27      0.513000         0.521       298760   0.423   \n",
       "219463          34      0.438000         0.460       281293   0.498   \n",
       "\n",
       "        instrumentalness  liveness  loudness  speechiness    tempo  \\\n",
       "58300           0.028400     0.293   -11.832       0.0430   86.096   \n",
       "32571           0.516000     0.094   -12.794       0.0468   89.093   \n",
       "89661           0.000000     0.108    -6.744       0.1250  130.039   \n",
       "142359          0.000000     0.277    -4.709       0.1020  178.068   \n",
       "33675           0.904000     0.129   -16.699       0.0349  136.076   \n",
       "...                  ...       ...       ...          ...      ...   \n",
       "150871          0.000000     0.343    -2.901       0.0869   99.972   \n",
       "219320          0.000000     0.165    -6.126       0.0318  110.024   \n",
       "149889          0.000000     0.134    -3.712       0.0335  102.975   \n",
       "220337          0.000004     0.131    -6.770       0.0324   59.036   \n",
       "219463          0.000000     0.331    -6.632       0.0321  119.984   \n",
       "\n",
       "        time_signature  valence  \n",
       "58300                4   0.0394  \n",
       "32571                3   0.0835  \n",
       "89661                4   0.3240  \n",
       "142359               4   0.4230  \n",
       "33675                3   0.0461  \n",
       "...                ...      ...  \n",
       "150871               4   0.6120  \n",
       "219320               4   0.1550  \n",
       "149889               4   0.6510  \n",
       "220337               4   0.2740  \n",
       "219463               4   0.1620  \n",
       "\n",
       "[173281 rows x 12 columns]"
      ]
     },
     "execution_count": 35,
     "metadata": {},
     "output_type": "execute_result"
    }
   ],
   "source": [
    "# Sélection numérique\n",
    "colonnes_num = df.select_dtypes(include=['float64', 'int64'])\n",
    "colonnes_num"
   ]
  },
  {
   "cell_type": "code",
   "execution_count": 36,
   "id": "e3aafe0b",
   "metadata": {},
   "outputs": [
    {
     "data": {
      "text/html": [
       "<div>\n",
       "<style scoped>\n",
       "    .dataframe tbody tr th:only-of-type {\n",
       "        vertical-align: middle;\n",
       "    }\n",
       "\n",
       "    .dataframe tbody tr th {\n",
       "        vertical-align: top;\n",
       "    }\n",
       "\n",
       "    .dataframe thead th {\n",
       "        text-align: right;\n",
       "    }\n",
       "</style>\n",
       "<table border=\"1\" class=\"dataframe\">\n",
       "  <thead>\n",
       "    <tr style=\"text-align: right;\">\n",
       "      <th></th>\n",
       "      <th>popularity</th>\n",
       "      <th>acousticness</th>\n",
       "      <th>danceability</th>\n",
       "      <th>duration_ms</th>\n",
       "      <th>energy</th>\n",
       "      <th>instrumentalness</th>\n",
       "      <th>liveness</th>\n",
       "      <th>loudness</th>\n",
       "      <th>speechiness</th>\n",
       "      <th>tempo</th>\n",
       "      <th>time_signature</th>\n",
       "      <th>valence</th>\n",
       "    </tr>\n",
       "  </thead>\n",
       "  <tbody>\n",
       "    <tr>\n",
       "      <th>count</th>\n",
       "      <td>173281.000000</td>\n",
       "      <td>173281.000000</td>\n",
       "      <td>173281.000000</td>\n",
       "      <td>1.732810e+05</td>\n",
       "      <td>173281.000000</td>\n",
       "      <td>173281.000000</td>\n",
       "      <td>173281.000000</td>\n",
       "      <td>173281.000000</td>\n",
       "      <td>173281.000000</td>\n",
       "      <td>173281.000000</td>\n",
       "      <td>173281.0</td>\n",
       "      <td>173281.000000</td>\n",
       "    </tr>\n",
       "    <tr>\n",
       "      <th>mean</th>\n",
       "      <td>36.691062</td>\n",
       "      <td>0.398999</td>\n",
       "      <td>0.542934</td>\n",
       "      <td>2.365783e+05</td>\n",
       "      <td>0.559895</td>\n",
       "      <td>0.171111</td>\n",
       "      <td>0.223413</td>\n",
       "      <td>-10.057533</td>\n",
       "      <td>0.125669</td>\n",
       "      <td>117.354701</td>\n",
       "      <td>3.90632</td>\n",
       "      <td>0.453408</td>\n",
       "    </tr>\n",
       "    <tr>\n",
       "      <th>std</th>\n",
       "      <td>17.549541</td>\n",
       "      <td>0.364926</td>\n",
       "      <td>0.189866</td>\n",
       "      <td>1.298382e+05</td>\n",
       "      <td>0.274677</td>\n",
       "      <td>0.322051</td>\n",
       "      <td>0.209568</td>\n",
       "      <td>6.342215</td>\n",
       "      <td>0.200999</td>\n",
       "      <td>31.314278</td>\n",
       "      <td>0.368517</td>\n",
       "      <td>0.267547</td>\n",
       "    </tr>\n",
       "    <tr>\n",
       "      <th>min</th>\n",
       "      <td>0.000000</td>\n",
       "      <td>0.000000</td>\n",
       "      <td>0.056900</td>\n",
       "      <td>1.538700e+04</td>\n",
       "      <td>0.000020</td>\n",
       "      <td>0.000000</td>\n",
       "      <td>0.009670</td>\n",
       "      <td>-52.457000</td>\n",
       "      <td>0.022200</td>\n",
       "      <td>30.379000</td>\n",
       "      <td>3.0</td>\n",
       "      <td>0.000000</td>\n",
       "    </tr>\n",
       "    <tr>\n",
       "      <th>25%</th>\n",
       "      <td>25.000000</td>\n",
       "      <td>0.044100</td>\n",
       "      <td>0.418000</td>\n",
       "      <td>1.789950e+05</td>\n",
       "      <td>0.350000</td>\n",
       "      <td>0.000000</td>\n",
       "      <td>0.097400</td>\n",
       "      <td>-12.715000</td>\n",
       "      <td>0.036800</td>\n",
       "      <td>92.050000</td>\n",
       "      <td>4.0</td>\n",
       "      <td>0.224000</td>\n",
       "    </tr>\n",
       "    <tr>\n",
       "      <th>50%</th>\n",
       "      <td>37.000000</td>\n",
       "      <td>0.279000</td>\n",
       "      <td>0.560000</td>\n",
       "      <td>2.197600e+05</td>\n",
       "      <td>0.595000</td>\n",
       "      <td>0.000070</td>\n",
       "      <td>0.130000</td>\n",
       "      <td>-8.127000</td>\n",
       "      <td>0.049400</td>\n",
       "      <td>115.074000</td>\n",
       "      <td>4.0</td>\n",
       "      <td>0.443000</td>\n",
       "    </tr>\n",
       "    <tr>\n",
       "      <th>75%</th>\n",
       "      <td>49.000000</td>\n",
       "      <td>0.783000</td>\n",
       "      <td>0.685000</td>\n",
       "      <td>2.687470e+05</td>\n",
       "      <td>0.791000</td>\n",
       "      <td>0.088000</td>\n",
       "      <td>0.276000</td>\n",
       "      <td>-5.605000</td>\n",
       "      <td>0.101000</td>\n",
       "      <td>139.005000</td>\n",
       "      <td>4.0</td>\n",
       "      <td>0.669000</td>\n",
       "    </tr>\n",
       "    <tr>\n",
       "      <th>max</th>\n",
       "      <td>100.000000</td>\n",
       "      <td>0.996000</td>\n",
       "      <td>0.989000</td>\n",
       "      <td>5.552917e+06</td>\n",
       "      <td>0.999000</td>\n",
       "      <td>0.999000</td>\n",
       "      <td>1.000000</td>\n",
       "      <td>3.744000</td>\n",
       "      <td>0.967000</td>\n",
       "      <td>242.903000</td>\n",
       "      <td>5.0</td>\n",
       "      <td>1.000000</td>\n",
       "    </tr>\n",
       "  </tbody>\n",
       "</table>\n",
       "</div>"
      ],
      "text/plain": [
       "          popularity   acousticness   danceability   duration_ms  \\\n",
       "count  173281.000000  173281.000000  173281.000000  1.732810e+05   \n",
       "mean       36.691062       0.398999       0.542934  2.365783e+05   \n",
       "std        17.549541       0.364926       0.189866  1.298382e+05   \n",
       "min         0.000000       0.000000       0.056900  1.538700e+04   \n",
       "25%        25.000000       0.044100       0.418000  1.789950e+05   \n",
       "50%        37.000000       0.279000       0.560000  2.197600e+05   \n",
       "75%        49.000000       0.783000       0.685000  2.687470e+05   \n",
       "max       100.000000       0.996000       0.989000  5.552917e+06   \n",
       "\n",
       "              energy  instrumentalness       liveness       loudness  \\\n",
       "count  173281.000000     173281.000000  173281.000000  173281.000000   \n",
       "mean        0.559895          0.171111       0.223413     -10.057533   \n",
       "std         0.274677          0.322051       0.209568       6.342215   \n",
       "min         0.000020          0.000000       0.009670     -52.457000   \n",
       "25%         0.350000          0.000000       0.097400     -12.715000   \n",
       "50%         0.595000          0.000070       0.130000      -8.127000   \n",
       "75%         0.791000          0.088000       0.276000      -5.605000   \n",
       "max         0.999000          0.999000       1.000000       3.744000   \n",
       "\n",
       "         speechiness          tempo  time_signature        valence  \n",
       "count  173281.000000  173281.000000        173281.0  173281.000000  \n",
       "mean        0.125669     117.354701         3.90632       0.453408  \n",
       "std         0.200999      31.314278        0.368517       0.267547  \n",
       "min         0.022200      30.379000             3.0       0.000000  \n",
       "25%         0.036800      92.050000             4.0       0.224000  \n",
       "50%         0.049400     115.074000             4.0       0.443000  \n",
       "75%         0.101000     139.005000             4.0       0.669000  \n",
       "max         0.967000     242.903000             5.0       1.000000  "
      ]
     },
     "execution_count": 36,
     "metadata": {},
     "output_type": "execute_result"
    }
   ],
   "source": [
    "df.describe()"
   ]
  },
  {
   "cell_type": "markdown",
   "id": "7e3daef9",
   "metadata": {},
   "source": [
    "##### ***Popularity***"
   ]
  },
  {
   "cell_type": "code",
   "execution_count": 37,
   "id": "d231ee18",
   "metadata": {},
   "outputs": [
    {
     "data": {
      "image/png": "[encoded data removed]",
      "text/plain": [
       "<Figure size 2000x600 with 1 Axes>"
      ]
     },
     "metadata": {},
     "output_type": "display_data"
    }
   ],
   "source": [
    "plt.figure(figsize=(20, 6))  \n",
    "sns.countplot(data=df,\n",
    "              x='popularity')\n",
    "\n",
    "plt.title('Distribution de la popularité des morceaux', fontsize=20)\n",
    "plt.xlabel('Popularité', fontsize=12)\n",
    "plt.ylabel('Nombre de morceaux', fontsize=12)\n",
    "plt.xticks(rotation=90)  \n",
    "plt.show()"
   ]
  },
  {
   "cell_type": "markdown",
   "id": "83e2a1a9",
   "metadata": {},
   "source": [
    "Pour chaque titre de chanson unique (track_name) sélectionne la ligne ayant la popularité maximale (popularity) dans le DataFrame df."
   ]
  },
  {
   "cell_type": "code",
   "execution_count": 38,
   "id": "fbc3de80",
   "metadata": {},
   "outputs": [],
   "source": [
    "df = df.loc[df.groupby('track_name')['popularity'].idxmax()]"
   ]
  },
  {
   "cell_type": "markdown",
   "id": "dfdb2dae",
   "metadata": {},
   "source": [
    "On décide de ne garder que les scores au dessus de 20/100 de popularité."
   ]
  },
  {
   "cell_type": "code",
   "execution_count": 39,
   "id": "4f3a8f0e",
   "metadata": {},
   "outputs": [],
   "source": [
    "df = df[df['popularity'] >= 20] "
   ]
  },
  {
   "cell_type": "code",
   "execution_count": 40,
   "id": "e02348b9",
   "metadata": {},
   "outputs": [
    {
     "name": "stdout",
     "output_type": "stream",
     "text": [
      "Le dataset a désormais 118542 lignes.\n"
     ]
    }
   ],
   "source": [
    "print(f\"Le dataset a désormais {len(df)} lignes.\")"
   ]
  },
  {
   "cell_type": "markdown",
   "id": "ba22e74d",
   "metadata": {},
   "source": [
    "##### ***Acousticness***"
   ]
  },
  {
   "cell_type": "code",
   "execution_count": null,
   "id": "34a83102",
   "metadata": {},
   "outputs": [],
   "source": []
  },
  {
   "cell_type": "markdown",
   "id": "7526f8ba",
   "metadata": {},
   "source": [
    "##### ***Danceability***"
   ]
  },
  {
   "cell_type": "code",
   "execution_count": null,
   "id": "6e888092",
   "metadata": {},
   "outputs": [],
   "source": []
  },
  {
   "cell_type": "markdown",
   "id": "3861a225",
   "metadata": {},
   "source": [
    "##### ***Duration ms***"
   ]
  },
  {
   "cell_type": "code",
   "execution_count": null,
   "id": "0b67e484",
   "metadata": {},
   "outputs": [],
   "source": []
  },
  {
   "cell_type": "markdown",
   "id": "a966785f",
   "metadata": {},
   "source": [
    "##### ***Energy***"
   ]
  },
  {
   "cell_type": "markdown",
   "id": "716062c0",
   "metadata": {},
   "source": []
  },
  {
   "cell_type": "code",
   "execution_count": 41,
   "id": "4556de54",
   "metadata": {},
   "outputs": [
    {
     "data": {
      "image/png": "[encoded data removed]",
      "text/plain": [
       "<Figure size 800x500 with 1 Axes>"
      ]
     },
     "metadata": {},
     "output_type": "display_data"
    }
   ],
   "source": [
    "plt.figure(figsize=(8, 5))\n",
    "plt.boxplot(x= df['energy'])\n",
    "\n",
    "plt.title('Boxplot de la colonne energy')\n",
    "plt.xlabel('energy')\n",
    "\n",
    "plt.show()"
   ]
  },
  {
   "cell_type": "markdown",
   "id": "9cb2f27c",
   "metadata": {},
   "source": [
    "- La médiane au-dessus de 0.6 montre que plus de la moitié des morceaux ont un niveau d’énergie modéré à élevé.\n",
    "- Possible classification à réaliser morceaux en faible / moyenne / forte énergie pour répondre à l'activité"
   ]
  },
  {
   "cell_type": "markdown",
   "id": "8e1d5dd4",
   "metadata": {},
   "source": [
    "##### ***Instrumentalness***"
   ]
  },
  {
   "cell_type": "code",
   "execution_count": 42,
   "id": "9c3f8e5c",
   "metadata": {},
   "outputs": [
    {
     "data": {
      "image/png": "[encoded data removed]",
      "text/plain": [
       "<Figure size 800x500 with 1 Axes>"
      ]
     },
     "metadata": {},
     "output_type": "display_data"
    }
   ],
   "source": [
    "plt.figure(figsize=(8, 5))\n",
    "plt.boxplot(x= df['instrumentalness'])\n",
    "\n",
    "plt.title('Boxplot de la colonne instrumentalness')\n",
    "plt.xlabel('instrumentalness')\n",
    "\n",
    "plt.show()"
   ]
  },
  {
   "cell_type": "code",
   "execution_count": 43,
   "id": "248ae315",
   "metadata": {},
   "outputs": [
    {
     "data": {
      "image/png": "[encoded data removed]",
      "text/plain": [
       "<Figure size 1000x600 with 1 Axes>"
      ]
     },
     "metadata": {},
     "output_type": "display_data"
    }
   ],
   "source": [
    "plt.figure(figsize=(10, 6))\n",
    "sns.histplot(df['instrumentalness'], bins=50, kde=True, color='skyblue')\n",
    "\n",
    "plt.title('Distribution de la colonne instrumentalness')\n",
    "plt.xlabel('Instrumentalness')\n",
    "plt.ylabel('Nombre de pistes')\n",
    "plt.grid(True)\n",
    "plt.show()\n"
   ]
  },
  {
   "cell_type": "markdown",
   "id": "f16da9f7",
   "metadata": {},
   "source": [
    "- La base de données est largement dominée par des chansons vocales.\n",
    "- Pas de nettoyage à réaliser."
   ]
  },
  {
   "cell_type": "markdown",
   "id": "0f7a3051",
   "metadata": {},
   "source": [
    "##### ***Liveness***"
   ]
  },
  {
   "cell_type": "code",
   "execution_count": 44,
   "id": "5b295a49",
   "metadata": {},
   "outputs": [
    {
     "data": {
      "text/plain": [
       "count    118542.000000\n",
       "mean          0.214476\n",
       "std           0.199656\n",
       "min           0.010500\n",
       "25%           0.096600\n",
       "50%           0.127000\n",
       "75%           0.263000\n",
       "max           1.000000\n",
       "Name: liveness, dtype: float64"
      ]
     },
     "execution_count": 44,
     "metadata": {},
     "output_type": "execute_result"
    }
   ],
   "source": [
    "df['liveness'].describe()"
   ]
  },
  {
   "cell_type": "code",
   "execution_count": 45,
   "id": "b3bc52ac",
   "metadata": {},
   "outputs": [
    {
     "data": {
      "image/png": "[encoded data removed]",
      "text/plain": [
       "<Figure size 800x500 with 1 Axes>"
      ]
     },
     "metadata": {},
     "output_type": "display_data"
    }
   ],
   "source": [
    "plt.figure(figsize=(8, 5))\n",
    "plt.boxplot(df['liveness'])\n",
    "\n",
    "plt.title('Boxplot de la colonne liveness')\n",
    "plt.xlabel('liveness')\n",
    "\n",
    "plt.show()\n"
   ]
  },
  {
   "cell_type": "markdown",
   "id": "bbc85a94",
   "metadata": {},
   "source": [
    "- Le dataset est majoritairement composé de musique studio.\n",
    "- Plus de 50 % des chansons n'ont que peu ou pas de caractéristiques live.\n",
    "- Un seuil à 0.8 reste raisonnable pour retirer les vraies captations live.\n",
    "- Un seuil à 0.5 \"possiblement live\""
   ]
  },
  {
   "cell_type": "code",
   "execution_count": 46,
   "id": "fd3f200e",
   "metadata": {},
   "outputs": [
    {
     "data": {
      "text/html": [
       "<div>\n",
       "<style scoped>\n",
       "    .dataframe tbody tr th:only-of-type {\n",
       "        vertical-align: middle;\n",
       "    }\n",
       "\n",
       "    .dataframe tbody tr th {\n",
       "        vertical-align: top;\n",
       "    }\n",
       "\n",
       "    .dataframe thead th {\n",
       "        text-align: right;\n",
       "    }\n",
       "</style>\n",
       "<table border=\"1\" class=\"dataframe\">\n",
       "  <thead>\n",
       "    <tr style=\"text-align: right;\">\n",
       "      <th></th>\n",
       "      <th>genre</th>\n",
       "      <th>artist_name</th>\n",
       "      <th>track_name</th>\n",
       "      <th>track_id</th>\n",
       "      <th>popularity</th>\n",
       "      <th>acousticness</th>\n",
       "      <th>danceability</th>\n",
       "      <th>duration_ms</th>\n",
       "      <th>energy</th>\n",
       "      <th>instrumentalness</th>\n",
       "      <th>key</th>\n",
       "      <th>liveness</th>\n",
       "      <th>loudness</th>\n",
       "      <th>mode</th>\n",
       "      <th>speechiness</th>\n",
       "      <th>tempo</th>\n",
       "      <th>time_signature</th>\n",
       "      <th>valence</th>\n",
       "    </tr>\n",
       "  </thead>\n",
       "  <tbody>\n",
       "    <tr>\n",
       "      <th>58300</th>\n",
       "      <td>opera</td>\n",
       "      <td>maria callas</td>\n",
       "      <td>\" la traviata \" : amami alfredo (act ii) - dig...</td>\n",
       "      <td>0wtpkz93wATDkUExJVuXEl</td>\n",
       "      <td>31</td>\n",
       "      <td>0.993000</td>\n",
       "      <td>0.364</td>\n",
       "      <td>131933</td>\n",
       "      <td>0.275</td>\n",
       "      <td>0.028400</td>\n",
       "      <td>F</td>\n",
       "      <td>0.293</td>\n",
       "      <td>-11.832</td>\n",
       "      <td>Major</td>\n",
       "      <td>0.0430</td>\n",
       "      <td>86.096</td>\n",
       "      <td>4</td>\n",
       "      <td>0.0394</td>\n",
       "    </tr>\n",
       "    <tr>\n",
       "      <th>32571</th>\n",
       "      <td>anime</td>\n",
       "      <td>yuki hayashi</td>\n",
       "      <td>\"1点\"</td>\n",
       "      <td>7JkDONXIbcKUQ7QzlLBumL</td>\n",
       "      <td>23</td>\n",
       "      <td>0.025000</td>\n",
       "      <td>0.250</td>\n",
       "      <td>158000</td>\n",
       "      <td>0.762</td>\n",
       "      <td>0.516000</td>\n",
       "      <td>C#</td>\n",
       "      <td>0.094</td>\n",
       "      <td>-12.794</td>\n",
       "      <td>Minor</td>\n",
       "      <td>0.0468</td>\n",
       "      <td>89.093</td>\n",
       "      <td>3</td>\n",
       "      <td>0.0835</td>\n",
       "    </tr>\n",
       "    <tr>\n",
       "      <th>89661</th>\n",
       "      <td>hip-hop</td>\n",
       "      <td>rae sremmurd</td>\n",
       "      <td>\"42\" - from sr3mm</td>\n",
       "      <td>5lf91lPnGKtIqsgmG1z8Ip</td>\n",
       "      <td>53</td>\n",
       "      <td>0.002750</td>\n",
       "      <td>0.968</td>\n",
       "      <td>238020</td>\n",
       "      <td>0.563</td>\n",
       "      <td>0.000000</td>\n",
       "      <td>C#</td>\n",
       "      <td>0.108</td>\n",
       "      <td>-6.744</td>\n",
       "      <td>Major</td>\n",
       "      <td>0.1250</td>\n",
       "      <td>130.039</td>\n",
       "      <td>4</td>\n",
       "      <td>0.3240</td>\n",
       "    </tr>\n",
       "    <tr>\n",
       "      <th>142359</th>\n",
       "      <td>indie</td>\n",
       "      <td>the gaslight anthem</td>\n",
       "      <td>\"45\"</td>\n",
       "      <td>25Sd73fleKUVPNqITPZkn1</td>\n",
       "      <td>48</td>\n",
       "      <td>0.000696</td>\n",
       "      <td>0.315</td>\n",
       "      <td>202493</td>\n",
       "      <td>0.970</td>\n",
       "      <td>0.000000</td>\n",
       "      <td>G#</td>\n",
       "      <td>0.277</td>\n",
       "      <td>-4.709</td>\n",
       "      <td>Major</td>\n",
       "      <td>0.1020</td>\n",
       "      <td>178.068</td>\n",
       "      <td>4</td>\n",
       "      <td>0.4230</td>\n",
       "    </tr>\n",
       "    <tr>\n",
       "      <th>77209</th>\n",
       "      <td>children's music</td>\n",
       "      <td>barns courtney</td>\n",
       "      <td>\"99\"</td>\n",
       "      <td>6YQUuoMnRIMaOmouYoMfQr</td>\n",
       "      <td>69</td>\n",
       "      <td>0.005980</td>\n",
       "      <td>0.552</td>\n",
       "      <td>199413</td>\n",
       "      <td>0.804</td>\n",
       "      <td>0.000000</td>\n",
       "      <td>G#</td>\n",
       "      <td>0.111</td>\n",
       "      <td>-4.299</td>\n",
       "      <td>Major</td>\n",
       "      <td>0.0303</td>\n",
       "      <td>95.980</td>\n",
       "      <td>4</td>\n",
       "      <td>0.7140</td>\n",
       "    </tr>\n",
       "    <tr>\n",
       "      <th>...</th>\n",
       "      <td>...</td>\n",
       "      <td>...</td>\n",
       "      <td>...</td>\n",
       "      <td>...</td>\n",
       "      <td>...</td>\n",
       "      <td>...</td>\n",
       "      <td>...</td>\n",
       "      <td>...</td>\n",
       "      <td>...</td>\n",
       "      <td>...</td>\n",
       "      <td>...</td>\n",
       "      <td>...</td>\n",
       "      <td>...</td>\n",
       "      <td>...</td>\n",
       "      <td>...</td>\n",
       "      <td>...</td>\n",
       "      <td>...</td>\n",
       "      <td>...</td>\n",
       "    </tr>\n",
       "    <tr>\n",
       "      <th>150871</th>\n",
       "      <td>pop</td>\n",
       "      <td>got7</td>\n",
       "      <td>하드캐리 hard carry</td>\n",
       "      <td>7Cd4glTUgV0vr0DBncEg8S</td>\n",
       "      <td>63</td>\n",
       "      <td>0.014800</td>\n",
       "      <td>0.700</td>\n",
       "      <td>193579</td>\n",
       "      <td>0.873</td>\n",
       "      <td>0.000000</td>\n",
       "      <td>C#</td>\n",
       "      <td>0.343</td>\n",
       "      <td>-2.901</td>\n",
       "      <td>Major</td>\n",
       "      <td>0.0869</td>\n",
       "      <td>99.972</td>\n",
       "      <td>4</td>\n",
       "      <td>0.6120</td>\n",
       "    </tr>\n",
       "    <tr>\n",
       "      <th>219320</th>\n",
       "      <td>world</td>\n",
       "      <td>park hyo shin</td>\n",
       "      <td>해줄 수 없는 일 haejul su eomneun il</td>\n",
       "      <td>3Kk075LR7Bj2bUH1mB3TIZ</td>\n",
       "      <td>30</td>\n",
       "      <td>0.729000</td>\n",
       "      <td>0.332</td>\n",
       "      <td>260600</td>\n",
       "      <td>0.493</td>\n",
       "      <td>0.000000</td>\n",
       "      <td>C</td>\n",
       "      <td>0.165</td>\n",
       "      <td>-6.126</td>\n",
       "      <td>Major</td>\n",
       "      <td>0.0318</td>\n",
       "      <td>110.024</td>\n",
       "      <td>4</td>\n",
       "      <td>0.1550</td>\n",
       "    </tr>\n",
       "    <tr>\n",
       "      <th>149889</th>\n",
       "      <td>pop</td>\n",
       "      <td>day6</td>\n",
       "      <td>행복했던 날들이었다 days gone by</td>\n",
       "      <td>3TE3SbiWrm69WyUl8BlZEV</td>\n",
       "      <td>64</td>\n",
       "      <td>0.002110</td>\n",
       "      <td>0.613</td>\n",
       "      <td>205149</td>\n",
       "      <td>0.874</td>\n",
       "      <td>0.000000</td>\n",
       "      <td>C</td>\n",
       "      <td>0.134</td>\n",
       "      <td>-3.712</td>\n",
       "      <td>Minor</td>\n",
       "      <td>0.0335</td>\n",
       "      <td>102.975</td>\n",
       "      <td>4</td>\n",
       "      <td>0.6510</td>\n",
       "    </tr>\n",
       "    <tr>\n",
       "      <th>220337</th>\n",
       "      <td>world</td>\n",
       "      <td>lee moon sae</td>\n",
       "      <td>휘파람</td>\n",
       "      <td>3G9dGrDJAPTDtJCGk8VF5i</td>\n",
       "      <td>27</td>\n",
       "      <td>0.513000</td>\n",
       "      <td>0.521</td>\n",
       "      <td>298760</td>\n",
       "      <td>0.423</td>\n",
       "      <td>0.000004</td>\n",
       "      <td>D</td>\n",
       "      <td>0.131</td>\n",
       "      <td>-6.770</td>\n",
       "      <td>Minor</td>\n",
       "      <td>0.0324</td>\n",
       "      <td>59.036</td>\n",
       "      <td>4</td>\n",
       "      <td>0.2740</td>\n",
       "    </tr>\n",
       "    <tr>\n",
       "      <th>219463</th>\n",
       "      <td>world</td>\n",
       "      <td>sung si-kyung</td>\n",
       "      <td>희재</td>\n",
       "      <td>3Ijb2UjPpI9RW6eSvR4Eve</td>\n",
       "      <td>34</td>\n",
       "      <td>0.438000</td>\n",
       "      <td>0.460</td>\n",
       "      <td>281293</td>\n",
       "      <td>0.498</td>\n",
       "      <td>0.000000</td>\n",
       "      <td>E</td>\n",
       "      <td>0.331</td>\n",
       "      <td>-6.632</td>\n",
       "      <td>Major</td>\n",
       "      <td>0.0321</td>\n",
       "      <td>119.984</td>\n",
       "      <td>4</td>\n",
       "      <td>0.1620</td>\n",
       "    </tr>\n",
       "  </tbody>\n",
       "</table>\n",
       "<p>114484 rows × 18 columns</p>\n",
       "</div>"
      ],
      "text/plain": [
       "                   genre          artist_name  \\\n",
       "58300              opera         maria callas   \n",
       "32571              anime         yuki hayashi   \n",
       "89661            hip-hop         rae sremmurd   \n",
       "142359             indie  the gaslight anthem   \n",
       "77209   children's music       barns courtney   \n",
       "...                  ...                  ...   \n",
       "150871               pop                 got7   \n",
       "219320             world        park hyo shin   \n",
       "149889               pop                 day6   \n",
       "220337             world         lee moon sae   \n",
       "219463             world        sung si-kyung   \n",
       "\n",
       "                                               track_name  \\\n",
       "58300   \" la traviata \" : amami alfredo (act ii) - dig...   \n",
       "32571                                                \"1点\"   \n",
       "89661                                   \"42\" - from sr3mm   \n",
       "142359                                               \"45\"   \n",
       "77209                                                \"99\"   \n",
       "...                                                   ...   \n",
       "150871                                    하드캐리 hard carry   \n",
       "219320                     해줄 수 없는 일 haejul su eomneun il   \n",
       "149889                            행복했던 날들이었다 days gone by   \n",
       "220337                                                휘파람   \n",
       "219463                                                 희재   \n",
       "\n",
       "                      track_id  popularity  acousticness  danceability  \\\n",
       "58300   0wtpkz93wATDkUExJVuXEl          31      0.993000         0.364   \n",
       "32571   7JkDONXIbcKUQ7QzlLBumL          23      0.025000         0.250   \n",
       "89661   5lf91lPnGKtIqsgmG1z8Ip          53      0.002750         0.968   \n",
       "142359  25Sd73fleKUVPNqITPZkn1          48      0.000696         0.315   \n",
       "77209   6YQUuoMnRIMaOmouYoMfQr          69      0.005980         0.552   \n",
       "...                        ...         ...           ...           ...   \n",
       "150871  7Cd4glTUgV0vr0DBncEg8S          63      0.014800         0.700   \n",
       "219320  3Kk075LR7Bj2bUH1mB3TIZ          30      0.729000         0.332   \n",
       "149889  3TE3SbiWrm69WyUl8BlZEV          64      0.002110         0.613   \n",
       "220337  3G9dGrDJAPTDtJCGk8VF5i          27      0.513000         0.521   \n",
       "219463  3Ijb2UjPpI9RW6eSvR4Eve          34      0.438000         0.460   \n",
       "\n",
       "        duration_ms  energy  instrumentalness key  liveness  loudness   mode  \\\n",
       "58300        131933   0.275          0.028400   F     0.293   -11.832  Major   \n",
       "32571        158000   0.762          0.516000  C#     0.094   -12.794  Minor   \n",
       "89661        238020   0.563          0.000000  C#     0.108    -6.744  Major   \n",
       "142359       202493   0.970          0.000000  G#     0.277    -4.709  Major   \n",
       "77209        199413   0.804          0.000000  G#     0.111    -4.299  Major   \n",
       "...             ...     ...               ...  ..       ...       ...    ...   \n",
       "150871       193579   0.873          0.000000  C#     0.343    -2.901  Major   \n",
       "219320       260600   0.493          0.000000   C     0.165    -6.126  Major   \n",
       "149889       205149   0.874          0.000000   C     0.134    -3.712  Minor   \n",
       "220337       298760   0.423          0.000004   D     0.131    -6.770  Minor   \n",
       "219463       281293   0.498          0.000000   E     0.331    -6.632  Major   \n",
       "\n",
       "        speechiness    tempo  time_signature  valence  \n",
       "58300        0.0430   86.096               4   0.0394  \n",
       "32571        0.0468   89.093               3   0.0835  \n",
       "89661        0.1250  130.039               4   0.3240  \n",
       "142359       0.1020  178.068               4   0.4230  \n",
       "77209        0.0303   95.980               4   0.7140  \n",
       "...             ...      ...             ...      ...  \n",
       "150871       0.0869   99.972               4   0.6120  \n",
       "219320       0.0318  110.024               4   0.1550  \n",
       "149889       0.0335  102.975               4   0.6510  \n",
       "220337       0.0324   59.036               4   0.2740  \n",
       "219463       0.0321  119.984               4   0.1620  \n",
       "\n",
       "[114484 rows x 18 columns]"
      ]
     },
     "execution_count": 46,
     "metadata": {},
     "output_type": "execute_result"
    }
   ],
   "source": [
    "df = df[df['liveness'] < 0.8]\n",
    "df"
   ]
  },
  {
   "cell_type": "code",
   "execution_count": 47,
   "id": "31d78a4c",
   "metadata": {},
   "outputs": [
    {
     "name": "stdout",
     "output_type": "stream",
     "text": [
      "Le dataset a désormais 114484 lignes.\n"
     ]
    }
   ],
   "source": [
    "print(f\"Le dataset a désormais {len(df)} lignes.\")"
   ]
  },
  {
   "cell_type": "markdown",
   "id": "3ae6f8d3",
   "metadata": {},
   "source": [
    "##### ***Tempo***"
   ]
  },
  {
   "cell_type": "code",
   "execution_count": 48,
   "id": "7b54ad05",
   "metadata": {},
   "outputs": [
    {
     "data": {
      "image/png": "[encoded data removed]",
      "text/plain": [
       "<Figure size 1000x100 with 1 Axes>"
      ]
     },
     "metadata": {},
     "output_type": "display_data"
    }
   ],
   "source": [
    "plt.figure(figsize=(10, 1))\n",
    "sns.boxplot(x=df['tempo'])\n",
    "plt.title(\"Boxplot de la colonne 'tempo'\")\n",
    "plt.show()"
   ]
  },
  {
   "cell_type": "code",
   "execution_count": 49,
   "id": "09fb027c",
   "metadata": {},
   "outputs": [
    {
     "name": "stdout",
     "output_type": "stream",
     "text": [
      "Borne basse : 23.72\n",
      "Borne haute : 209.70\n"
     ]
    }
   ],
   "source": [
    "# Calcul des bornes IQR\n",
    "Q1 = df['tempo'].quantile(0.25)\n",
    "Q3 = df['tempo'].quantile(0.75)\n",
    "IQR = Q3 - Q1\n",
    "\n",
    "lower_bound = Q1 - 1.5 * IQR\n",
    "upper_bound = Q3 + 1.5 * IQR\n",
    "\n",
    "print(f\"Borne basse : {lower_bound:.2f}\")\n",
    "print(f\"Borne haute : {upper_bound:.2f}\")"
   ]
  },
  {
   "cell_type": "code",
   "execution_count": 50,
   "id": "b15b4d98",
   "metadata": {},
   "outputs": [
    {
     "data": {
      "text/html": [
       "<div>\n",
       "<style scoped>\n",
       "    .dataframe tbody tr th:only-of-type {\n",
       "        vertical-align: middle;\n",
       "    }\n",
       "\n",
       "    .dataframe tbody tr th {\n",
       "        vertical-align: top;\n",
       "    }\n",
       "\n",
       "    .dataframe thead th {\n",
       "        text-align: right;\n",
       "    }\n",
       "</style>\n",
       "<table border=\"1\" class=\"dataframe\">\n",
       "  <thead>\n",
       "    <tr style=\"text-align: right;\">\n",
       "      <th></th>\n",
       "      <th>genre</th>\n",
       "      <th>artist_name</th>\n",
       "      <th>track_name</th>\n",
       "      <th>track_id</th>\n",
       "      <th>popularity</th>\n",
       "      <th>acousticness</th>\n",
       "      <th>danceability</th>\n",
       "      <th>duration_ms</th>\n",
       "      <th>energy</th>\n",
       "      <th>instrumentalness</th>\n",
       "      <th>key</th>\n",
       "      <th>liveness</th>\n",
       "      <th>loudness</th>\n",
       "      <th>mode</th>\n",
       "      <th>speechiness</th>\n",
       "      <th>tempo</th>\n",
       "      <th>time_signature</th>\n",
       "      <th>valence</th>\n",
       "    </tr>\n",
       "  </thead>\n",
       "  <tbody>\n",
       "    <tr>\n",
       "      <th>58300</th>\n",
       "      <td>opera</td>\n",
       "      <td>maria callas</td>\n",
       "      <td>\" la traviata \" : amami alfredo (act ii) - dig...</td>\n",
       "      <td>0wtpkz93wATDkUExJVuXEl</td>\n",
       "      <td>31</td>\n",
       "      <td>0.993000</td>\n",
       "      <td>0.364</td>\n",
       "      <td>131933</td>\n",
       "      <td>0.275</td>\n",
       "      <td>0.028400</td>\n",
       "      <td>F</td>\n",
       "      <td>0.293</td>\n",
       "      <td>-11.832</td>\n",
       "      <td>Major</td>\n",
       "      <td>0.0430</td>\n",
       "      <td>86.096</td>\n",
       "      <td>4</td>\n",
       "      <td>0.0394</td>\n",
       "    </tr>\n",
       "    <tr>\n",
       "      <th>32571</th>\n",
       "      <td>anime</td>\n",
       "      <td>yuki hayashi</td>\n",
       "      <td>\"1点\"</td>\n",
       "      <td>7JkDONXIbcKUQ7QzlLBumL</td>\n",
       "      <td>23</td>\n",
       "      <td>0.025000</td>\n",
       "      <td>0.250</td>\n",
       "      <td>158000</td>\n",
       "      <td>0.762</td>\n",
       "      <td>0.516000</td>\n",
       "      <td>C#</td>\n",
       "      <td>0.094</td>\n",
       "      <td>-12.794</td>\n",
       "      <td>Minor</td>\n",
       "      <td>0.0468</td>\n",
       "      <td>89.093</td>\n",
       "      <td>3</td>\n",
       "      <td>0.0835</td>\n",
       "    </tr>\n",
       "    <tr>\n",
       "      <th>89661</th>\n",
       "      <td>hip-hop</td>\n",
       "      <td>rae sremmurd</td>\n",
       "      <td>\"42\" - from sr3mm</td>\n",
       "      <td>5lf91lPnGKtIqsgmG1z8Ip</td>\n",
       "      <td>53</td>\n",
       "      <td>0.002750</td>\n",
       "      <td>0.968</td>\n",
       "      <td>238020</td>\n",
       "      <td>0.563</td>\n",
       "      <td>0.000000</td>\n",
       "      <td>C#</td>\n",
       "      <td>0.108</td>\n",
       "      <td>-6.744</td>\n",
       "      <td>Major</td>\n",
       "      <td>0.1250</td>\n",
       "      <td>130.039</td>\n",
       "      <td>4</td>\n",
       "      <td>0.3240</td>\n",
       "    </tr>\n",
       "    <tr>\n",
       "      <th>142359</th>\n",
       "      <td>indie</td>\n",
       "      <td>the gaslight anthem</td>\n",
       "      <td>\"45\"</td>\n",
       "      <td>25Sd73fleKUVPNqITPZkn1</td>\n",
       "      <td>48</td>\n",
       "      <td>0.000696</td>\n",
       "      <td>0.315</td>\n",
       "      <td>202493</td>\n",
       "      <td>0.970</td>\n",
       "      <td>0.000000</td>\n",
       "      <td>G#</td>\n",
       "      <td>0.277</td>\n",
       "      <td>-4.709</td>\n",
       "      <td>Major</td>\n",
       "      <td>0.1020</td>\n",
       "      <td>178.068</td>\n",
       "      <td>4</td>\n",
       "      <td>0.4230</td>\n",
       "    </tr>\n",
       "    <tr>\n",
       "      <th>77209</th>\n",
       "      <td>children's music</td>\n",
       "      <td>barns courtney</td>\n",
       "      <td>\"99\"</td>\n",
       "      <td>6YQUuoMnRIMaOmouYoMfQr</td>\n",
       "      <td>69</td>\n",
       "      <td>0.005980</td>\n",
       "      <td>0.552</td>\n",
       "      <td>199413</td>\n",
       "      <td>0.804</td>\n",
       "      <td>0.000000</td>\n",
       "      <td>G#</td>\n",
       "      <td>0.111</td>\n",
       "      <td>-4.299</td>\n",
       "      <td>Major</td>\n",
       "      <td>0.0303</td>\n",
       "      <td>95.980</td>\n",
       "      <td>4</td>\n",
       "      <td>0.7140</td>\n",
       "    </tr>\n",
       "    <tr>\n",
       "      <th>...</th>\n",
       "      <td>...</td>\n",
       "      <td>...</td>\n",
       "      <td>...</td>\n",
       "      <td>...</td>\n",
       "      <td>...</td>\n",
       "      <td>...</td>\n",
       "      <td>...</td>\n",
       "      <td>...</td>\n",
       "      <td>...</td>\n",
       "      <td>...</td>\n",
       "      <td>...</td>\n",
       "      <td>...</td>\n",
       "      <td>...</td>\n",
       "      <td>...</td>\n",
       "      <td>...</td>\n",
       "      <td>...</td>\n",
       "      <td>...</td>\n",
       "      <td>...</td>\n",
       "    </tr>\n",
       "    <tr>\n",
       "      <th>150871</th>\n",
       "      <td>pop</td>\n",
       "      <td>got7</td>\n",
       "      <td>하드캐리 hard carry</td>\n",
       "      <td>7Cd4glTUgV0vr0DBncEg8S</td>\n",
       "      <td>63</td>\n",
       "      <td>0.014800</td>\n",
       "      <td>0.700</td>\n",
       "      <td>193579</td>\n",
       "      <td>0.873</td>\n",
       "      <td>0.000000</td>\n",
       "      <td>C#</td>\n",
       "      <td>0.343</td>\n",
       "      <td>-2.901</td>\n",
       "      <td>Major</td>\n",
       "      <td>0.0869</td>\n",
       "      <td>99.972</td>\n",
       "      <td>4</td>\n",
       "      <td>0.6120</td>\n",
       "    </tr>\n",
       "    <tr>\n",
       "      <th>219320</th>\n",
       "      <td>world</td>\n",
       "      <td>park hyo shin</td>\n",
       "      <td>해줄 수 없는 일 haejul su eomneun il</td>\n",
       "      <td>3Kk075LR7Bj2bUH1mB3TIZ</td>\n",
       "      <td>30</td>\n",
       "      <td>0.729000</td>\n",
       "      <td>0.332</td>\n",
       "      <td>260600</td>\n",
       "      <td>0.493</td>\n",
       "      <td>0.000000</td>\n",
       "      <td>C</td>\n",
       "      <td>0.165</td>\n",
       "      <td>-6.126</td>\n",
       "      <td>Major</td>\n",
       "      <td>0.0318</td>\n",
       "      <td>110.024</td>\n",
       "      <td>4</td>\n",
       "      <td>0.1550</td>\n",
       "    </tr>\n",
       "    <tr>\n",
       "      <th>149889</th>\n",
       "      <td>pop</td>\n",
       "      <td>day6</td>\n",
       "      <td>행복했던 날들이었다 days gone by</td>\n",
       "      <td>3TE3SbiWrm69WyUl8BlZEV</td>\n",
       "      <td>64</td>\n",
       "      <td>0.002110</td>\n",
       "      <td>0.613</td>\n",
       "      <td>205149</td>\n",
       "      <td>0.874</td>\n",
       "      <td>0.000000</td>\n",
       "      <td>C</td>\n",
       "      <td>0.134</td>\n",
       "      <td>-3.712</td>\n",
       "      <td>Minor</td>\n",
       "      <td>0.0335</td>\n",
       "      <td>102.975</td>\n",
       "      <td>4</td>\n",
       "      <td>0.6510</td>\n",
       "    </tr>\n",
       "    <tr>\n",
       "      <th>220337</th>\n",
       "      <td>world</td>\n",
       "      <td>lee moon sae</td>\n",
       "      <td>휘파람</td>\n",
       "      <td>3G9dGrDJAPTDtJCGk8VF5i</td>\n",
       "      <td>27</td>\n",
       "      <td>0.513000</td>\n",
       "      <td>0.521</td>\n",
       "      <td>298760</td>\n",
       "      <td>0.423</td>\n",
       "      <td>0.000004</td>\n",
       "      <td>D</td>\n",
       "      <td>0.131</td>\n",
       "      <td>-6.770</td>\n",
       "      <td>Minor</td>\n",
       "      <td>0.0324</td>\n",
       "      <td>59.036</td>\n",
       "      <td>4</td>\n",
       "      <td>0.2740</td>\n",
       "    </tr>\n",
       "    <tr>\n",
       "      <th>219463</th>\n",
       "      <td>world</td>\n",
       "      <td>sung si-kyung</td>\n",
       "      <td>희재</td>\n",
       "      <td>3Ijb2UjPpI9RW6eSvR4Eve</td>\n",
       "      <td>34</td>\n",
       "      <td>0.438000</td>\n",
       "      <td>0.460</td>\n",
       "      <td>281293</td>\n",
       "      <td>0.498</td>\n",
       "      <td>0.000000</td>\n",
       "      <td>E</td>\n",
       "      <td>0.331</td>\n",
       "      <td>-6.632</td>\n",
       "      <td>Major</td>\n",
       "      <td>0.0321</td>\n",
       "      <td>119.984</td>\n",
       "      <td>4</td>\n",
       "      <td>0.1620</td>\n",
       "    </tr>\n",
       "  </tbody>\n",
       "</table>\n",
       "<p>114407 rows × 18 columns</p>\n",
       "</div>"
      ],
      "text/plain": [
       "                   genre          artist_name  \\\n",
       "58300              opera         maria callas   \n",
       "32571              anime         yuki hayashi   \n",
       "89661            hip-hop         rae sremmurd   \n",
       "142359             indie  the gaslight anthem   \n",
       "77209   children's music       barns courtney   \n",
       "...                  ...                  ...   \n",
       "150871               pop                 got7   \n",
       "219320             world        park hyo shin   \n",
       "149889               pop                 day6   \n",
       "220337             world         lee moon sae   \n",
       "219463             world        sung si-kyung   \n",
       "\n",
       "                                               track_name  \\\n",
       "58300   \" la traviata \" : amami alfredo (act ii) - dig...   \n",
       "32571                                                \"1点\"   \n",
       "89661                                   \"42\" - from sr3mm   \n",
       "142359                                               \"45\"   \n",
       "77209                                                \"99\"   \n",
       "...                                                   ...   \n",
       "150871                                    하드캐리 hard carry   \n",
       "219320                     해줄 수 없는 일 haejul su eomneun il   \n",
       "149889                            행복했던 날들이었다 days gone by   \n",
       "220337                                                휘파람   \n",
       "219463                                                 희재   \n",
       "\n",
       "                      track_id  popularity  acousticness  danceability  \\\n",
       "58300   0wtpkz93wATDkUExJVuXEl          31      0.993000         0.364   \n",
       "32571   7JkDONXIbcKUQ7QzlLBumL          23      0.025000         0.250   \n",
       "89661   5lf91lPnGKtIqsgmG1z8Ip          53      0.002750         0.968   \n",
       "142359  25Sd73fleKUVPNqITPZkn1          48      0.000696         0.315   \n",
       "77209   6YQUuoMnRIMaOmouYoMfQr          69      0.005980         0.552   \n",
       "...                        ...         ...           ...           ...   \n",
       "150871  7Cd4glTUgV0vr0DBncEg8S          63      0.014800         0.700   \n",
       "219320  3Kk075LR7Bj2bUH1mB3TIZ          30      0.729000         0.332   \n",
       "149889  3TE3SbiWrm69WyUl8BlZEV          64      0.002110         0.613   \n",
       "220337  3G9dGrDJAPTDtJCGk8VF5i          27      0.513000         0.521   \n",
       "219463  3Ijb2UjPpI9RW6eSvR4Eve          34      0.438000         0.460   \n",
       "\n",
       "        duration_ms  energy  instrumentalness key  liveness  loudness   mode  \\\n",
       "58300        131933   0.275          0.028400   F     0.293   -11.832  Major   \n",
       "32571        158000   0.762          0.516000  C#     0.094   -12.794  Minor   \n",
       "89661        238020   0.563          0.000000  C#     0.108    -6.744  Major   \n",
       "142359       202493   0.970          0.000000  G#     0.277    -4.709  Major   \n",
       "77209        199413   0.804          0.000000  G#     0.111    -4.299  Major   \n",
       "...             ...     ...               ...  ..       ...       ...    ...   \n",
       "150871       193579   0.873          0.000000  C#     0.343    -2.901  Major   \n",
       "219320       260600   0.493          0.000000   C     0.165    -6.126  Major   \n",
       "149889       205149   0.874          0.000000   C     0.134    -3.712  Minor   \n",
       "220337       298760   0.423          0.000004   D     0.131    -6.770  Minor   \n",
       "219463       281293   0.498          0.000000   E     0.331    -6.632  Major   \n",
       "\n",
       "        speechiness    tempo  time_signature  valence  \n",
       "58300        0.0430   86.096               4   0.0394  \n",
       "32571        0.0468   89.093               3   0.0835  \n",
       "89661        0.1250  130.039               4   0.3240  \n",
       "142359       0.1020  178.068               4   0.4230  \n",
       "77209        0.0303   95.980               4   0.7140  \n",
       "...             ...      ...             ...      ...  \n",
       "150871       0.0869   99.972               4   0.6120  \n",
       "219320       0.0318  110.024               4   0.1550  \n",
       "149889       0.0335  102.975               4   0.6510  \n",
       "220337       0.0324   59.036               4   0.2740  \n",
       "219463       0.0321  119.984               4   0.1620  \n",
       "\n",
       "[114407 rows x 18 columns]"
      ]
     },
     "execution_count": 50,
     "metadata": {},
     "output_type": "execute_result"
    }
   ],
   "source": [
    "# on clean en gardant les valeurs entre les bornes\n",
    "df = df[(df['tempo'] >= 23.82) & (df['tempo'] <= 208.20)]\n",
    "df"
   ]
  },
  {
   "cell_type": "code",
   "execution_count": 51,
   "id": "e10833a2",
   "metadata": {},
   "outputs": [
    {
     "name": "stdout",
     "output_type": "stream",
     "text": [
      "Le dataset a désormais 114407 lignes.\n"
     ]
    }
   ],
   "source": [
    "print(f\"Le dataset a désormais {len(df)} lignes.\")"
   ]
  },
  {
   "cell_type": "markdown",
   "id": "21cb1f7a",
   "metadata": {},
   "source": [
    "Cela signifie que toutes les valeurs de tempo en dehors de cet intervalle sont considérées comme des outliers (valeurs aberrantes)."
   ]
  },
  {
   "cell_type": "markdown",
   "id": "98daed17",
   "metadata": {},
   "source": [
    "##### ***Loudness***"
   ]
  },
  {
   "cell_type": "markdown",
   "id": "c0544296",
   "metadata": {},
   "source": [
    "- Norme = Note comprise entre -60db et 0db.\n",
    "- Moyenne (-9.569885) et médiane (-7.762000) prochent, donc faible dispersion des valeurs.\n",
    "- Écart important (env. 40 points) entre la valeur minimale (-52.457000) et le 1er quartile (-11.771000). \n",
    "- La majorité des valuers se situent donc en deça du 1er quartile (25%). (au dessus non?)\n",
    "\n",
    "- LOUDNESS (en dB, valeurs négatives)\n",
    "- Moyenne -9.57 dB, médiane -7.76 dB\n",
    "- 25% des morceaux < -11.77 dB : musique douce/intime\n",
    "- Corrélation forte avec energy : variable redondante potentielle"
   ]
  },
  {
   "cell_type": "code",
   "execution_count": 52,
   "id": "724a03aa",
   "metadata": {},
   "outputs": [
    {
     "data": {
      "image/png": "[encoded data removed]",
      "text/plain": [
       "<Figure size 640x480 with 1 Axes>"
      ]
     },
     "metadata": {},
     "output_type": "display_data"
    }
   ],
   "source": [
    "counts_loudness = df['loudness'].value_counts()\n",
    "sns.histplot(data=df, x='loudness')\n",
    "plt.title('Distribution de la colonne Loudness')\n",
    "plt.xlabel('Loudness')\n",
    "plt.ylabel('Nombre de pistes')\n",
    "plt.show()"
   ]
  },
  {
   "cell_type": "code",
   "execution_count": 53,
   "id": "6ccd12dc",
   "metadata": {},
   "outputs": [
    {
     "data": {
      "image/png": "[encoded data removed]",
      "text/plain": [
       "<Figure size 640x480 with 1 Axes>"
      ]
     },
     "metadata": {},
     "output_type": "display_data"
    }
   ],
   "source": [
    "# Affichage d'une boite à moustache pour la variable \"loudness\"\n",
    "# Mettre en évidence la présence d'outliers\n",
    "\n",
    "sns.boxplot (data=df, x=\"loudness\")\n",
    "plt.show()"
   ]
  },
  {
   "cell_type": "code",
   "execution_count": 54,
   "id": "245e782e",
   "metadata": {},
   "outputs": [
    {
     "data": {
      "text/html": [
       "<div>\n",
       "<style scoped>\n",
       "    .dataframe tbody tr th:only-of-type {\n",
       "        vertical-align: middle;\n",
       "    }\n",
       "\n",
       "    .dataframe tbody tr th {\n",
       "        vertical-align: top;\n",
       "    }\n",
       "\n",
       "    .dataframe thead th {\n",
       "        text-align: right;\n",
       "    }\n",
       "</style>\n",
       "<table border=\"1\" class=\"dataframe\">\n",
       "  <thead>\n",
       "    <tr style=\"text-align: right;\">\n",
       "      <th></th>\n",
       "      <th>genre</th>\n",
       "      <th>artist_name</th>\n",
       "      <th>track_name</th>\n",
       "      <th>track_id</th>\n",
       "      <th>popularity</th>\n",
       "      <th>acousticness</th>\n",
       "      <th>danceability</th>\n",
       "      <th>duration_ms</th>\n",
       "      <th>energy</th>\n",
       "      <th>instrumentalness</th>\n",
       "      <th>key</th>\n",
       "      <th>liveness</th>\n",
       "      <th>loudness</th>\n",
       "      <th>mode</th>\n",
       "      <th>speechiness</th>\n",
       "      <th>tempo</th>\n",
       "      <th>time_signature</th>\n",
       "      <th>valence</th>\n",
       "    </tr>\n",
       "  </thead>\n",
       "  <tbody>\n",
       "    <tr>\n",
       "      <th>58300</th>\n",
       "      <td>opera</td>\n",
       "      <td>maria callas</td>\n",
       "      <td>\" la traviata \" : amami alfredo (act ii) - dig...</td>\n",
       "      <td>0wtpkz93wATDkUExJVuXEl</td>\n",
       "      <td>31</td>\n",
       "      <td>0.993000</td>\n",
       "      <td>0.364</td>\n",
       "      <td>131933</td>\n",
       "      <td>0.275</td>\n",
       "      <td>0.028400</td>\n",
       "      <td>F</td>\n",
       "      <td>0.293</td>\n",
       "      <td>-11.832</td>\n",
       "      <td>Major</td>\n",
       "      <td>0.0430</td>\n",
       "      <td>86.096</td>\n",
       "      <td>4</td>\n",
       "      <td>0.0394</td>\n",
       "    </tr>\n",
       "    <tr>\n",
       "      <th>32571</th>\n",
       "      <td>anime</td>\n",
       "      <td>yuki hayashi</td>\n",
       "      <td>\"1点\"</td>\n",
       "      <td>7JkDONXIbcKUQ7QzlLBumL</td>\n",
       "      <td>23</td>\n",
       "      <td>0.025000</td>\n",
       "      <td>0.250</td>\n",
       "      <td>158000</td>\n",
       "      <td>0.762</td>\n",
       "      <td>0.516000</td>\n",
       "      <td>C#</td>\n",
       "      <td>0.094</td>\n",
       "      <td>-12.794</td>\n",
       "      <td>Minor</td>\n",
       "      <td>0.0468</td>\n",
       "      <td>89.093</td>\n",
       "      <td>3</td>\n",
       "      <td>0.0835</td>\n",
       "    </tr>\n",
       "    <tr>\n",
       "      <th>89661</th>\n",
       "      <td>hip-hop</td>\n",
       "      <td>rae sremmurd</td>\n",
       "      <td>\"42\" - from sr3mm</td>\n",
       "      <td>5lf91lPnGKtIqsgmG1z8Ip</td>\n",
       "      <td>53</td>\n",
       "      <td>0.002750</td>\n",
       "      <td>0.968</td>\n",
       "      <td>238020</td>\n",
       "      <td>0.563</td>\n",
       "      <td>0.000000</td>\n",
       "      <td>C#</td>\n",
       "      <td>0.108</td>\n",
       "      <td>-6.744</td>\n",
       "      <td>Major</td>\n",
       "      <td>0.1250</td>\n",
       "      <td>130.039</td>\n",
       "      <td>4</td>\n",
       "      <td>0.3240</td>\n",
       "    </tr>\n",
       "    <tr>\n",
       "      <th>142359</th>\n",
       "      <td>indie</td>\n",
       "      <td>the gaslight anthem</td>\n",
       "      <td>\"45\"</td>\n",
       "      <td>25Sd73fleKUVPNqITPZkn1</td>\n",
       "      <td>48</td>\n",
       "      <td>0.000696</td>\n",
       "      <td>0.315</td>\n",
       "      <td>202493</td>\n",
       "      <td>0.970</td>\n",
       "      <td>0.000000</td>\n",
       "      <td>G#</td>\n",
       "      <td>0.277</td>\n",
       "      <td>-4.709</td>\n",
       "      <td>Major</td>\n",
       "      <td>0.1020</td>\n",
       "      <td>178.068</td>\n",
       "      <td>4</td>\n",
       "      <td>0.4230</td>\n",
       "    </tr>\n",
       "    <tr>\n",
       "      <th>77209</th>\n",
       "      <td>children's music</td>\n",
       "      <td>barns courtney</td>\n",
       "      <td>\"99\"</td>\n",
       "      <td>6YQUuoMnRIMaOmouYoMfQr</td>\n",
       "      <td>69</td>\n",
       "      <td>0.005980</td>\n",
       "      <td>0.552</td>\n",
       "      <td>199413</td>\n",
       "      <td>0.804</td>\n",
       "      <td>0.000000</td>\n",
       "      <td>G#</td>\n",
       "      <td>0.111</td>\n",
       "      <td>-4.299</td>\n",
       "      <td>Major</td>\n",
       "      <td>0.0303</td>\n",
       "      <td>95.980</td>\n",
       "      <td>4</td>\n",
       "      <td>0.7140</td>\n",
       "    </tr>\n",
       "    <tr>\n",
       "      <th>...</th>\n",
       "      <td>...</td>\n",
       "      <td>...</td>\n",
       "      <td>...</td>\n",
       "      <td>...</td>\n",
       "      <td>...</td>\n",
       "      <td>...</td>\n",
       "      <td>...</td>\n",
       "      <td>...</td>\n",
       "      <td>...</td>\n",
       "      <td>...</td>\n",
       "      <td>...</td>\n",
       "      <td>...</td>\n",
       "      <td>...</td>\n",
       "      <td>...</td>\n",
       "      <td>...</td>\n",
       "      <td>...</td>\n",
       "      <td>...</td>\n",
       "      <td>...</td>\n",
       "    </tr>\n",
       "    <tr>\n",
       "      <th>150871</th>\n",
       "      <td>pop</td>\n",
       "      <td>got7</td>\n",
       "      <td>하드캐리 hard carry</td>\n",
       "      <td>7Cd4glTUgV0vr0DBncEg8S</td>\n",
       "      <td>63</td>\n",
       "      <td>0.014800</td>\n",
       "      <td>0.700</td>\n",
       "      <td>193579</td>\n",
       "      <td>0.873</td>\n",
       "      <td>0.000000</td>\n",
       "      <td>C#</td>\n",
       "      <td>0.343</td>\n",
       "      <td>-2.901</td>\n",
       "      <td>Major</td>\n",
       "      <td>0.0869</td>\n",
       "      <td>99.972</td>\n",
       "      <td>4</td>\n",
       "      <td>0.6120</td>\n",
       "    </tr>\n",
       "    <tr>\n",
       "      <th>219320</th>\n",
       "      <td>world</td>\n",
       "      <td>park hyo shin</td>\n",
       "      <td>해줄 수 없는 일 haejul su eomneun il</td>\n",
       "      <td>3Kk075LR7Bj2bUH1mB3TIZ</td>\n",
       "      <td>30</td>\n",
       "      <td>0.729000</td>\n",
       "      <td>0.332</td>\n",
       "      <td>260600</td>\n",
       "      <td>0.493</td>\n",
       "      <td>0.000000</td>\n",
       "      <td>C</td>\n",
       "      <td>0.165</td>\n",
       "      <td>-6.126</td>\n",
       "      <td>Major</td>\n",
       "      <td>0.0318</td>\n",
       "      <td>110.024</td>\n",
       "      <td>4</td>\n",
       "      <td>0.1550</td>\n",
       "    </tr>\n",
       "    <tr>\n",
       "      <th>149889</th>\n",
       "      <td>pop</td>\n",
       "      <td>day6</td>\n",
       "      <td>행복했던 날들이었다 days gone by</td>\n",
       "      <td>3TE3SbiWrm69WyUl8BlZEV</td>\n",
       "      <td>64</td>\n",
       "      <td>0.002110</td>\n",
       "      <td>0.613</td>\n",
       "      <td>205149</td>\n",
       "      <td>0.874</td>\n",
       "      <td>0.000000</td>\n",
       "      <td>C</td>\n",
       "      <td>0.134</td>\n",
       "      <td>-3.712</td>\n",
       "      <td>Minor</td>\n",
       "      <td>0.0335</td>\n",
       "      <td>102.975</td>\n",
       "      <td>4</td>\n",
       "      <td>0.6510</td>\n",
       "    </tr>\n",
       "    <tr>\n",
       "      <th>220337</th>\n",
       "      <td>world</td>\n",
       "      <td>lee moon sae</td>\n",
       "      <td>휘파람</td>\n",
       "      <td>3G9dGrDJAPTDtJCGk8VF5i</td>\n",
       "      <td>27</td>\n",
       "      <td>0.513000</td>\n",
       "      <td>0.521</td>\n",
       "      <td>298760</td>\n",
       "      <td>0.423</td>\n",
       "      <td>0.000004</td>\n",
       "      <td>D</td>\n",
       "      <td>0.131</td>\n",
       "      <td>-6.770</td>\n",
       "      <td>Minor</td>\n",
       "      <td>0.0324</td>\n",
       "      <td>59.036</td>\n",
       "      <td>4</td>\n",
       "      <td>0.2740</td>\n",
       "    </tr>\n",
       "    <tr>\n",
       "      <th>219463</th>\n",
       "      <td>world</td>\n",
       "      <td>sung si-kyung</td>\n",
       "      <td>희재</td>\n",
       "      <td>3Ijb2UjPpI9RW6eSvR4Eve</td>\n",
       "      <td>34</td>\n",
       "      <td>0.438000</td>\n",
       "      <td>0.460</td>\n",
       "      <td>281293</td>\n",
       "      <td>0.498</td>\n",
       "      <td>0.000000</td>\n",
       "      <td>E</td>\n",
       "      <td>0.331</td>\n",
       "      <td>-6.632</td>\n",
       "      <td>Major</td>\n",
       "      <td>0.0321</td>\n",
       "      <td>119.984</td>\n",
       "      <td>4</td>\n",
       "      <td>0.1620</td>\n",
       "    </tr>\n",
       "  </tbody>\n",
       "</table>\n",
       "<p>114346 rows × 18 columns</p>\n",
       "</div>"
      ],
      "text/plain": [
       "                   genre          artist_name  \\\n",
       "58300              opera         maria callas   \n",
       "32571              anime         yuki hayashi   \n",
       "89661            hip-hop         rae sremmurd   \n",
       "142359             indie  the gaslight anthem   \n",
       "77209   children's music       barns courtney   \n",
       "...                  ...                  ...   \n",
       "150871               pop                 got7   \n",
       "219320             world        park hyo shin   \n",
       "149889               pop                 day6   \n",
       "220337             world         lee moon sae   \n",
       "219463             world        sung si-kyung   \n",
       "\n",
       "                                               track_name  \\\n",
       "58300   \" la traviata \" : amami alfredo (act ii) - dig...   \n",
       "32571                                                \"1点\"   \n",
       "89661                                   \"42\" - from sr3mm   \n",
       "142359                                               \"45\"   \n",
       "77209                                                \"99\"   \n",
       "...                                                   ...   \n",
       "150871                                    하드캐리 hard carry   \n",
       "219320                     해줄 수 없는 일 haejul su eomneun il   \n",
       "149889                            행복했던 날들이었다 days gone by   \n",
       "220337                                                휘파람   \n",
       "219463                                                 희재   \n",
       "\n",
       "                      track_id  popularity  acousticness  danceability  \\\n",
       "58300   0wtpkz93wATDkUExJVuXEl          31      0.993000         0.364   \n",
       "32571   7JkDONXIbcKUQ7QzlLBumL          23      0.025000         0.250   \n",
       "89661   5lf91lPnGKtIqsgmG1z8Ip          53      0.002750         0.968   \n",
       "142359  25Sd73fleKUVPNqITPZkn1          48      0.000696         0.315   \n",
       "77209   6YQUuoMnRIMaOmouYoMfQr          69      0.005980         0.552   \n",
       "...                        ...         ...           ...           ...   \n",
       "150871  7Cd4glTUgV0vr0DBncEg8S          63      0.014800         0.700   \n",
       "219320  3Kk075LR7Bj2bUH1mB3TIZ          30      0.729000         0.332   \n",
       "149889  3TE3SbiWrm69WyUl8BlZEV          64      0.002110         0.613   \n",
       "220337  3G9dGrDJAPTDtJCGk8VF5i          27      0.513000         0.521   \n",
       "219463  3Ijb2UjPpI9RW6eSvR4Eve          34      0.438000         0.460   \n",
       "\n",
       "        duration_ms  energy  instrumentalness key  liveness  loudness   mode  \\\n",
       "58300        131933   0.275          0.028400   F     0.293   -11.832  Major   \n",
       "32571        158000   0.762          0.516000  C#     0.094   -12.794  Minor   \n",
       "89661        238020   0.563          0.000000  C#     0.108    -6.744  Major   \n",
       "142359       202493   0.970          0.000000  G#     0.277    -4.709  Major   \n",
       "77209        199413   0.804          0.000000  G#     0.111    -4.299  Major   \n",
       "...             ...     ...               ...  ..       ...       ...    ...   \n",
       "150871       193579   0.873          0.000000  C#     0.343    -2.901  Major   \n",
       "219320       260600   0.493          0.000000   C     0.165    -6.126  Major   \n",
       "149889       205149   0.874          0.000000   C     0.134    -3.712  Minor   \n",
       "220337       298760   0.423          0.000004   D     0.131    -6.770  Minor   \n",
       "219463       281293   0.498          0.000000   E     0.331    -6.632  Major   \n",
       "\n",
       "        speechiness    tempo  time_signature  valence  \n",
       "58300        0.0430   86.096               4   0.0394  \n",
       "32571        0.0468   89.093               3   0.0835  \n",
       "89661        0.1250  130.039               4   0.3240  \n",
       "142359       0.1020  178.068               4   0.4230  \n",
       "77209        0.0303   95.980               4   0.7140  \n",
       "...             ...      ...             ...      ...  \n",
       "150871       0.0869   99.972               4   0.6120  \n",
       "219320       0.0318  110.024               4   0.1550  \n",
       "149889       0.0335  102.975               4   0.6510  \n",
       "220337       0.0324   59.036               4   0.2740  \n",
       "219463       0.0321  119.984               4   0.1620  \n",
       "\n",
       "[114346 rows x 18 columns]"
      ]
     },
     "execution_count": 54,
     "metadata": {},
     "output_type": "execute_result"
    }
   ],
   "source": [
    "df = df[df['loudness'] <= 0]\n",
    "df"
   ]
  },
  {
   "cell_type": "code",
   "execution_count": 55,
   "id": "2e81680d",
   "metadata": {},
   "outputs": [
    {
     "name": "stdout",
     "output_type": "stream",
     "text": [
      "Le dataset a désormais 114346 lignes.\n"
     ]
    }
   ],
   "source": [
    "print(f\"Le dataset a désormais {len(df)} lignes.\")"
   ]
  },
  {
   "cell_type": "markdown",
   "id": "4b2e46d7",
   "metadata": {},
   "source": [
    "##### ***Speechiness***"
   ]
  },
  {
   "cell_type": "code",
   "execution_count": 56,
   "id": "485343b5",
   "metadata": {},
   "outputs": [
    {
     "data": {
      "text/plain": [
       "count    114346.000000\n",
       "mean          0.100035\n",
       "std           0.142416\n",
       "min           0.022200\n",
       "25%           0.036300\n",
       "50%           0.048100\n",
       "75%           0.093100\n",
       "max           0.967000\n",
       "Name: speechiness, dtype: float64"
      ]
     },
     "execution_count": 56,
     "metadata": {},
     "output_type": "execute_result"
    }
   ],
   "source": [
    "df[\"speechiness\"].describe().T"
   ]
  },
  {
   "cell_type": "code",
   "execution_count": 57,
   "id": "46ad423d",
   "metadata": {},
   "outputs": [
    {
     "data": {
      "image/png": "[encoded data removed]",
      "text/plain": [
       "<Figure size 640x480 with 1 Axes>"
      ]
     },
     "metadata": {},
     "output_type": "display_data"
    }
   ],
   "source": [
    "counts_key = df['speechiness'].value_counts()\n",
    "sns.histplot(data=df, x=\"speechiness\")\n",
    "plt.title('Distribution de la colonne speechiness')\n",
    "plt.xlabel('speechiness')\n",
    "plt.ylabel('Nombre de pistes')\n",
    "plt.show()"
   ]
  },
  {
   "cell_type": "markdown",
   "id": "6b6cdc1c",
   "metadata": {},
   "source": [
    "- On observe que la majorité des morceaux ont une \"speechiness\" faible (valeurs proches de 0).\n",
    "- Les percentiles montrent que 90% des morceaux ont une valeur inférieure à 0.278, ce qui indique que les morceaux très \"parlés\" sont rares.\n",
    "- La moyenne (mean) est de 0.120765, ce qui confirme que la plupart des morceaux contiennent peu de paroles selon ce critère."
   ]
  },
  {
   "cell_type": "code",
   "execution_count": 58,
   "id": "bf3ee9eb",
   "metadata": {},
   "outputs": [],
   "source": [
    "df = df[df['speechiness']<=0.66]"
   ]
  },
  {
   "cell_type": "code",
   "execution_count": 59,
   "id": "3196f17f",
   "metadata": {},
   "outputs": [
    {
     "name": "stdout",
     "output_type": "stream",
     "text": [
      "Le dataset a désormais 112173 lignes.\n"
     ]
    }
   ],
   "source": [
    "print(f\"Le dataset a désormais {len(df)} lignes.\")"
   ]
  },
  {
   "cell_type": "markdown",
   "id": "f9c674ad",
   "metadata": {},
   "source": [
    "##### ***Valence***"
   ]
  },
  {
   "cell_type": "code",
   "execution_count": 60,
   "id": "cd81e83f",
   "metadata": {},
   "outputs": [
    {
     "data": {
      "text/plain": [
       "count    112173.000000\n",
       "mean          0.458031\n",
       "std           0.268183\n",
       "min           0.000000\n",
       "25%           0.229000\n",
       "50%           0.451000\n",
       "75%           0.676000\n",
       "max           1.000000\n",
       "Name: valence, dtype: float64"
      ]
     },
     "execution_count": 60,
     "metadata": {},
     "output_type": "execute_result"
    }
   ],
   "source": [
    "df['valence'].describe()"
   ]
  },
  {
   "cell_type": "code",
   "execution_count": 61,
   "id": "13828e11",
   "metadata": {},
   "outputs": [
    {
     "data": {
      "image/png": "[encoded data removed]",
      "text/plain": [
       "<Figure size 2000x100 with 1 Axes>"
      ]
     },
     "metadata": {},
     "output_type": "display_data"
    }
   ],
   "source": [
    "plt.figure(figsize=(20, 1))\n",
    "sns.boxplot(x=df['valence'])\n",
    "plt.title(\"boxplot de la colonne 'valence'\")\n",
    "plt.show()"
   ]
  },
  {
   "cell_type": "markdown",
   "id": "8dfd58b1",
   "metadata": {},
   "source": [
    "Voir la corrélation avec le mode et peut être la clé."
   ]
  },
  {
   "cell_type": "markdown",
   "id": "7ce3c4ca",
   "metadata": {},
   "source": [
    "# **Enrichissement**"
   ]
  },
  {
   "cell_type": "markdown",
   "id": "4c28e0ce",
   "metadata": {},
   "source": [
    "- Réviser la colonne genre.\n",
    "- agrémenter des paroles.\n",
    "- agrémenter des pochettes d'album"
   ]
  },
  {
   "cell_type": "markdown",
   "id": "a84eb3a4",
   "metadata": {},
   "source": [
    "**API LAST FM**"
   ]
  },
  {
   "cell_type": "markdown",
   "id": "28e38fcb",
   "metadata": {},
   "source": [
    "**SPOTIFY API**"
   ]
  },
  {
   "cell_type": "markdown",
   "id": "1e241dd0",
   "metadata": {},
   "source": [
    "**MUSICBRAINZ**"
   ]
  },
  {
   "cell_type": "markdown",
   "id": "9df17deb",
   "metadata": {},
   "source": [
    "utiliser une API cache locale ou un dump JSON pré-téléchargé "
   ]
  },
  {
   "cell_type": "markdown",
   "id": "10f45ca6",
   "metadata": {},
   "source": [
    "# **Analyse de corrélation**"
   ]
  }
 ],
 "metadata": {
  "kernelspec": {
   "display_name": "Python 3",
   "language": "python",
   "name": "python3"
  },
  "language_info": {
   "codemirror_mode": {
    "name": "ipython",
    "version": 3
   },
   "file_extension": ".py",
   "mimetype": "text/x-python",
   "name": "python",
   "nbconvert_exporter": "python",
   "pygments_lexer": "ipython3",
   "version": "3.10.12"
  }
 },
 "nbformat": 4,
 "nbformat_minor": 5
}
