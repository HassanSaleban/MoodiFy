{
 "cells": [
  {
   "cell_type": "code",
   "execution_count": 6,
   "id": "1c35edfd",
   "metadata": {},
   "outputs": [
    {
     "data": {
      "text/html": [
       "<div>\n",
       "<style scoped>\n",
       "    .dataframe tbody tr th:only-of-type {\n",
       "        vertical-align: middle;\n",
       "    }\n",
       "\n",
       "    .dataframe tbody tr th {\n",
       "        vertical-align: top;\n",
       "    }\n",
       "\n",
       "    .dataframe thead th {\n",
       "        text-align: right;\n",
       "    }\n",
       "</style>\n",
       "<table border=\"1\" class=\"dataframe\">\n",
       "  <thead>\n",
       "    <tr style=\"text-align: right;\">\n",
       "      <th></th>\n",
       "      <th>Tranche d'âge</th>\n",
       "      <th>Temps d'écoute quotidien</th>\n",
       "      <th>Supports privilégiés</th>\n",
       "      <th>Genres les plus écoutés</th>\n",
       "      <th>Moments d'écoute privilégiés</th>\n",
       "    </tr>\n",
       "  </thead>\n",
       "  <tbody>\n",
       "    <tr>\n",
       "      <th>0</th>\n",
       "      <td>15-24 ans</td>\n",
       "      <td>2h43</td>\n",
       "      <td>Streaming audio (94%), Vidéos courtes (67%), R...</td>\n",
       "      <td>Rap/Hip-Hop (67%), Pop/Folk (60%), Rock/Punk (...</td>\n",
       "      <td>Non précisé</td>\n",
       "    </tr>\n",
       "    <tr>\n",
       "      <th>1</th>\n",
       "      <td>45-59 ans</td>\n",
       "      <td>2h06</td>\n",
       "      <td>Radio (68%), Streaming audio (48%), CD (41%)</td>\n",
       "      <td>Variété française (73%), Pop/Folk (46%), Rock/...</td>\n",
       "      <td>Matin (6h-9h), Après-midi (14h-18h), Fin de jo...</td>\n",
       "    </tr>\n",
       "    <tr>\n",
       "      <th>2</th>\n",
       "      <td>60-69 ans</td>\n",
       "      <td>1h46</td>\n",
       "      <td>Radio (68%), CD (41%), Télévision (34%)</td>\n",
       "      <td>Variété française (82%), Jazz/Blues (36%), Mus...</td>\n",
       "      <td>Matinée (9h-12h), Après-midi (14h-18h), Fin de...</td>\n",
       "    </tr>\n",
       "    <tr>\n",
       "      <th>3</th>\n",
       "      <td>70 ans et plus</td>\n",
       "      <td>1h38</td>\n",
       "      <td>Radio (68%), CD (41%), Télévision (34%)</td>\n",
       "      <td>Variété française (82%), Jazz/Blues (41%), Mus...</td>\n",
       "      <td>Matinée (9h-12h), Après-midi (14h-18h), Fin de...</td>\n",
       "    </tr>\n",
       "  </tbody>\n",
       "</table>\n",
       "</div>"
      ],
      "text/plain": [
       "    Tranche d'âge Temps d'écoute quotidien  \\\n",
       "0       15-24 ans                     2h43   \n",
       "1       45-59 ans                     2h06   \n",
       "2       60-69 ans                     1h46   \n",
       "3  70 ans et plus                     1h38   \n",
       "\n",
       "                                Supports privilégiés  \\\n",
       "0  Streaming audio (94%), Vidéos courtes (67%), R...   \n",
       "1       Radio (68%), Streaming audio (48%), CD (41%)   \n",
       "2            Radio (68%), CD (41%), Télévision (34%)   \n",
       "3            Radio (68%), CD (41%), Télévision (34%)   \n",
       "\n",
       "                             Genres les plus écoutés  \\\n",
       "0  Rap/Hip-Hop (67%), Pop/Folk (60%), Rock/Punk (...   \n",
       "1  Variété française (73%), Pop/Folk (46%), Rock/...   \n",
       "2  Variété française (82%), Jazz/Blues (36%), Mus...   \n",
       "3  Variété française (82%), Jazz/Blues (41%), Mus...   \n",
       "\n",
       "                        Moments d'écoute privilégiés  \n",
       "0                                        Non précisé  \n",
       "1  Matin (6h-9h), Après-midi (14h-18h), Fin de jo...  \n",
       "2  Matinée (9h-12h), Après-midi (14h-18h), Fin de...  \n",
       "3  Matinée (9h-12h), Après-midi (14h-18h), Fin de...  "
      ]
     },
     "execution_count": 6,
     "metadata": {},
     "output_type": "execute_result"
    }
   ],
   "source": [
    "import pandas as pd\n",
    "\n",
    "# Utilise le bon format de chemin (slashs ou chaîne brute)\n",
    "df = pd.read_csv(r\"C:\\Users\\saleban ali hassan\\Documents\\Projet_Moodify\\csv\\habitudes_ecoute_par_tranche_age.csv\")\n",
    "\n",
    "# Affiche les premières lignes\n",
    "df.head()\n",
    "\n"
   ]
  }
 ],
 "metadata": {
  "kernelspec": {
   "display_name": "venv_moodify",
   "language": "python",
   "name": "python3"
  },
  "language_info": {
   "codemirror_mode": {
    "name": "ipython",
    "version": 3
   },
   "file_extension": ".py",
   "mimetype": "text/x-python",
   "name": "python",
   "nbconvert_exporter": "python",
   "pygments_lexer": "ipython3",
   "version": "3.13.3"
  }
 },
 "nbformat": 4,
 "nbformat_minor": 5
}
